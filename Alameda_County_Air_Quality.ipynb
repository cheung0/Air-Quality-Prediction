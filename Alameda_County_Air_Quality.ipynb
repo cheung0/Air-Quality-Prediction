{
  "nbformat": 4,
  "nbformat_minor": 0,
  "metadata": {
    "colab": {
      "provenance": [],
      "authorship_tag": "ABX9TyPkuxY3GzUdnsFG3PcdWKTo",
      "include_colab_link": true
    },
    "kernelspec": {
      "name": "python3",
      "display_name": "Python 3"
    },
    "language_info": {
      "name": "python"
    }
  },
  "cells": [
    {
      "cell_type": "markdown",
      "metadata": {
        "id": "view-in-github",
        "colab_type": "text"
      },
      "source": [
        "<a href=\"https://colab.research.google.com/github/cheung0/Predicting-Air-Quality/blob/main/Alameda_County_Air_Quality.ipynb\" target=\"_parent\"><img src=\"https://colab.research.google.com/assets/colab-badge.svg\" alt=\"Open In Colab\"/></a>"
      ]
    },
    {
      "cell_type": "code",
      "execution_count": 34,
      "metadata": {
        "colab": {
          "base_uri": "https://localhost:8080/"
        },
        "id": "inyT47L5fLtQ",
        "outputId": "dce30a4c-5977-4ca3-f872-dd9e5182341c"
      },
      "outputs": [
        {
          "output_type": "stream",
          "name": "stdout",
          "text": [
            "  State Name county Name  State Code  County Code        Date  AQI Category  \\\n",
            "0    Alabama     Baldwin           1            3  2022-01-02   22     Good   \n",
            "1    Alabama     Baldwin           1            3  2022-01-05   36     Good   \n",
            "2    Alabama     Baldwin           1            3  2022-01-08   35     Good   \n",
            "3    Alabama     Baldwin           1            3  2022-01-11   15     Good   \n",
            "4    Alabama     Baldwin           1            3  2022-01-14   48     Good   \n",
            "\n",
            "  Defining Parameter Defining Site  Number of Sites Reporting  \n",
            "0              PM2.5   01-003-0010                          1  \n",
            "1              PM2.5   01-003-0010                          1  \n",
            "2              PM2.5   01-003-0010                          1  \n",
            "3              PM2.5   01-003-0010                          1  \n",
            "4              PM2.5   01-003-0010                          1  \n"
          ]
        }
      ],
      "source": [
        "import pandas as pd\n",
        "\n",
        "# Replace 'file_path' with the actual path to your CSV file\n",
        "file_path = '/daily_aqi_by_county_2022.csv'\n",
        "\n",
        "# Load the CSV file into a DataFrame\n",
        "df = pd.read_csv(file_path)\n",
        "\n",
        "# Display the first few rows of the DataFrame\n",
        "print(df.head())\n"
      ]
    },
    {
      "cell_type": "code",
      "source": [
        "# Filter the DataFrame to keep rows with county name equal to \"Alameda\"\n",
        "df = df[df['county Name'] == 'Alameda']\n",
        "\n",
        "# Convert the 'Date' column to datetime\n",
        "df['Date'] = pd.to_datetime(df['Date'])\n",
        "\n",
        "# Extract the day of the week\n",
        "df['DayOfWeek'] = df['Date'].dt.day_name()\n",
        "\n",
        "# Display the resulting DataFrame\n",
        "print(df)\n",
        "\n",
        "# Delete outliers\n",
        "# Define the column containing the data to check for outliers\n",
        "column_name = 'AQI'\n",
        "\n",
        "# Calculate the Z-score for each data point in the column\n",
        "z_scores = np.abs((df[column_name] - df[column_name].mean()) / df[column_name].std())\n",
        "\n",
        "# Set the threshold for identifying outliers (e.g., Z-score greater than 3)\n",
        "z_score_threshold = 3\n",
        "\n",
        "# Filter the DataFrame to keep only rows without outliers\n",
        "df = df[z_scores <= z_score_threshold]\n",
        "\n",
        "# Display the DataFrame without outliers\n",
        "print(df)"
      ],
      "metadata": {
        "colab": {
          "base_uri": "https://localhost:8080/"
        },
        "id": "U-5sbf1rgbBi",
        "outputId": "80f829e5-0cef-43a4-c2c7-e57e6b464479"
      },
      "execution_count": 35,
      "outputs": [
        {
          "output_type": "stream",
          "name": "stdout",
          "text": [
            "      State Name county Name  State Code  County Code       Date  AQI  \\\n",
            "8486  California     Alameda           6            1 2022-01-01   53   \n",
            "8487  California     Alameda           6            1 2022-01-02   55   \n",
            "8488  California     Alameda           6            1 2022-01-03   32   \n",
            "8489  California     Alameda           6            1 2022-01-04   30   \n",
            "8490  California     Alameda           6            1 2022-01-05   29   \n",
            "...          ...         ...         ...          ...        ...  ...   \n",
            "8725  California     Alameda           6            1 2022-08-28   57   \n",
            "8726  California     Alameda           6            1 2022-08-29   53   \n",
            "8727  California     Alameda           6            1 2022-08-30   59   \n",
            "8728  California     Alameda           6            1 2022-08-31   61   \n",
            "8729  California     Alameda           6            1 2022-09-01    6   \n",
            "\n",
            "      Category Defining Parameter Defining Site  Number of Sites Reporting  \\\n",
            "8486  Moderate              PM2.5   06-001-0009                          6   \n",
            "8487  Moderate              PM2.5   06-001-0012                          6   \n",
            "8488      Good              PM2.5   06-001-0012                          6   \n",
            "8489      Good                NO2   06-001-2001                          6   \n",
            "8490      Good              Ozone   06-001-2001                          6   \n",
            "...        ...                ...           ...                        ...   \n",
            "8725  Moderate              PM2.5   06-001-0012                          6   \n",
            "8726  Moderate              PM2.5   06-001-0012                          6   \n",
            "8727  Moderate              PM2.5   06-001-0012                          6   \n",
            "8728  Moderate              Ozone   06-001-0007                          6   \n",
            "8729      Good                 CO   06-001-0015                          4   \n",
            "\n",
            "      DayOfWeek  \n",
            "8486   Saturday  \n",
            "8487     Sunday  \n",
            "8488     Monday  \n",
            "8489    Tuesday  \n",
            "8490  Wednesday  \n",
            "...         ...  \n",
            "8725     Sunday  \n",
            "8726     Monday  \n",
            "8727    Tuesday  \n",
            "8728  Wednesday  \n",
            "8729   Thursday  \n",
            "\n",
            "[244 rows x 11 columns]\n",
            "      State Name county Name  State Code  County Code       Date  AQI  \\\n",
            "8486  California     Alameda           6            1 2022-01-01   53   \n",
            "8487  California     Alameda           6            1 2022-01-02   55   \n",
            "8488  California     Alameda           6            1 2022-01-03   32   \n",
            "8489  California     Alameda           6            1 2022-01-04   30   \n",
            "8490  California     Alameda           6            1 2022-01-05   29   \n",
            "...          ...         ...         ...          ...        ...  ...   \n",
            "8725  California     Alameda           6            1 2022-08-28   57   \n",
            "8726  California     Alameda           6            1 2022-08-29   53   \n",
            "8727  California     Alameda           6            1 2022-08-30   59   \n",
            "8728  California     Alameda           6            1 2022-08-31   61   \n",
            "8729  California     Alameda           6            1 2022-09-01    6   \n",
            "\n",
            "      Category Defining Parameter Defining Site  Number of Sites Reporting  \\\n",
            "8486  Moderate              PM2.5   06-001-0009                          6   \n",
            "8487  Moderate              PM2.5   06-001-0012                          6   \n",
            "8488      Good              PM2.5   06-001-0012                          6   \n",
            "8489      Good                NO2   06-001-2001                          6   \n",
            "8490      Good              Ozone   06-001-2001                          6   \n",
            "...        ...                ...           ...                        ...   \n",
            "8725  Moderate              PM2.5   06-001-0012                          6   \n",
            "8726  Moderate              PM2.5   06-001-0012                          6   \n",
            "8727  Moderate              PM2.5   06-001-0012                          6   \n",
            "8728  Moderate              Ozone   06-001-0007                          6   \n",
            "8729      Good                 CO   06-001-0015                          4   \n",
            "\n",
            "      DayOfWeek  \n",
            "8486   Saturday  \n",
            "8487     Sunday  \n",
            "8488     Monday  \n",
            "8489    Tuesday  \n",
            "8490  Wednesday  \n",
            "...         ...  \n",
            "8725     Sunday  \n",
            "8726     Monday  \n",
            "8727    Tuesday  \n",
            "8728  Wednesday  \n",
            "8729   Thursday  \n",
            "\n",
            "[242 rows x 11 columns]\n"
          ]
        },
        {
          "output_type": "stream",
          "name": "stderr",
          "text": [
            "<ipython-input-35-6c2f3edd4381>:5: SettingWithCopyWarning: \n",
            "A value is trying to be set on a copy of a slice from a DataFrame.\n",
            "Try using .loc[row_indexer,col_indexer] = value instead\n",
            "\n",
            "See the caveats in the documentation: https://pandas.pydata.org/pandas-docs/stable/user_guide/indexing.html#returning-a-view-versus-a-copy\n",
            "  df['Date'] = pd.to_datetime(df['Date'])\n",
            "<ipython-input-35-6c2f3edd4381>:8: SettingWithCopyWarning: \n",
            "A value is trying to be set on a copy of a slice from a DataFrame.\n",
            "Try using .loc[row_indexer,col_indexer] = value instead\n",
            "\n",
            "See the caveats in the documentation: https://pandas.pydata.org/pandas-docs/stable/user_guide/indexing.html#returning-a-view-versus-a-copy\n",
            "  df['DayOfWeek'] = df['Date'].dt.day_name()\n"
          ]
        }
      ]
    },
    {
      "cell_type": "code",
      "source": [
        "df.describe()"
      ],
      "metadata": {
        "colab": {
          "base_uri": "https://localhost:8080/",
          "height": 300
        },
        "id": "g822pzQfgiiR",
        "outputId": "9f1790cb-279a-4a25-a1ad-0fcb0632e5b1"
      },
      "execution_count": 36,
      "outputs": [
        {
          "output_type": "execute_result",
          "data": {
            "text/plain": [
              "       State Code  County Code         AQI  Number of Sites Reporting\n",
              "count       242.0        242.0  242.000000                 242.000000\n",
              "mean          6.0          1.0   43.574380                   5.929752\n",
              "std           0.0          0.0   13.219369                   0.271814\n",
              "min           6.0          1.0    6.000000                   4.000000\n",
              "25%           6.0          1.0   35.000000                   6.000000\n",
              "50%           6.0          1.0   41.000000                   6.000000\n",
              "75%           6.0          1.0   52.750000                   6.000000\n",
              "max           6.0          1.0   85.000000                   6.000000"
            ],
            "text/html": [
              "\n",
              "  <div id=\"df-b124fca5-704f-43c8-b9da-53f4e5945a9e\">\n",
              "    <div class=\"colab-df-container\">\n",
              "      <div>\n",
              "<style scoped>\n",
              "    .dataframe tbody tr th:only-of-type {\n",
              "        vertical-align: middle;\n",
              "    }\n",
              "\n",
              "    .dataframe tbody tr th {\n",
              "        vertical-align: top;\n",
              "    }\n",
              "\n",
              "    .dataframe thead th {\n",
              "        text-align: right;\n",
              "    }\n",
              "</style>\n",
              "<table border=\"1\" class=\"dataframe\">\n",
              "  <thead>\n",
              "    <tr style=\"text-align: right;\">\n",
              "      <th></th>\n",
              "      <th>State Code</th>\n",
              "      <th>County Code</th>\n",
              "      <th>AQI</th>\n",
              "      <th>Number of Sites Reporting</th>\n",
              "    </tr>\n",
              "  </thead>\n",
              "  <tbody>\n",
              "    <tr>\n",
              "      <th>count</th>\n",
              "      <td>242.0</td>\n",
              "      <td>242.0</td>\n",
              "      <td>242.000000</td>\n",
              "      <td>242.000000</td>\n",
              "    </tr>\n",
              "    <tr>\n",
              "      <th>mean</th>\n",
              "      <td>6.0</td>\n",
              "      <td>1.0</td>\n",
              "      <td>43.574380</td>\n",
              "      <td>5.929752</td>\n",
              "    </tr>\n",
              "    <tr>\n",
              "      <th>std</th>\n",
              "      <td>0.0</td>\n",
              "      <td>0.0</td>\n",
              "      <td>13.219369</td>\n",
              "      <td>0.271814</td>\n",
              "    </tr>\n",
              "    <tr>\n",
              "      <th>min</th>\n",
              "      <td>6.0</td>\n",
              "      <td>1.0</td>\n",
              "      <td>6.000000</td>\n",
              "      <td>4.000000</td>\n",
              "    </tr>\n",
              "    <tr>\n",
              "      <th>25%</th>\n",
              "      <td>6.0</td>\n",
              "      <td>1.0</td>\n",
              "      <td>35.000000</td>\n",
              "      <td>6.000000</td>\n",
              "    </tr>\n",
              "    <tr>\n",
              "      <th>50%</th>\n",
              "      <td>6.0</td>\n",
              "      <td>1.0</td>\n",
              "      <td>41.000000</td>\n",
              "      <td>6.000000</td>\n",
              "    </tr>\n",
              "    <tr>\n",
              "      <th>75%</th>\n",
              "      <td>6.0</td>\n",
              "      <td>1.0</td>\n",
              "      <td>52.750000</td>\n",
              "      <td>6.000000</td>\n",
              "    </tr>\n",
              "    <tr>\n",
              "      <th>max</th>\n",
              "      <td>6.0</td>\n",
              "      <td>1.0</td>\n",
              "      <td>85.000000</td>\n",
              "      <td>6.000000</td>\n",
              "    </tr>\n",
              "  </tbody>\n",
              "</table>\n",
              "</div>\n",
              "      <button class=\"colab-df-convert\" onclick=\"convertToInteractive('df-b124fca5-704f-43c8-b9da-53f4e5945a9e')\"\n",
              "              title=\"Convert this dataframe to an interactive table.\"\n",
              "              style=\"display:none;\">\n",
              "        \n",
              "  <svg xmlns=\"http://www.w3.org/2000/svg\" height=\"24px\"viewBox=\"0 0 24 24\"\n",
              "       width=\"24px\">\n",
              "    <path d=\"M0 0h24v24H0V0z\" fill=\"none\"/>\n",
              "    <path d=\"M18.56 5.44l.94 2.06.94-2.06 2.06-.94-2.06-.94-.94-2.06-.94 2.06-2.06.94zm-11 1L8.5 8.5l.94-2.06 2.06-.94-2.06-.94L8.5 2.5l-.94 2.06-2.06.94zm10 10l.94 2.06.94-2.06 2.06-.94-2.06-.94-.94-2.06-.94 2.06-2.06.94z\"/><path d=\"M17.41 7.96l-1.37-1.37c-.4-.4-.92-.59-1.43-.59-.52 0-1.04.2-1.43.59L10.3 9.45l-7.72 7.72c-.78.78-.78 2.05 0 2.83L4 21.41c.39.39.9.59 1.41.59.51 0 1.02-.2 1.41-.59l7.78-7.78 2.81-2.81c.8-.78.8-2.07 0-2.86zM5.41 20L4 18.59l7.72-7.72 1.47 1.35L5.41 20z\"/>\n",
              "  </svg>\n",
              "      </button>\n",
              "      \n",
              "  <style>\n",
              "    .colab-df-container {\n",
              "      display:flex;\n",
              "      flex-wrap:wrap;\n",
              "      gap: 12px;\n",
              "    }\n",
              "\n",
              "    .colab-df-convert {\n",
              "      background-color: #E8F0FE;\n",
              "      border: none;\n",
              "      border-radius: 50%;\n",
              "      cursor: pointer;\n",
              "      display: none;\n",
              "      fill: #1967D2;\n",
              "      height: 32px;\n",
              "      padding: 0 0 0 0;\n",
              "      width: 32px;\n",
              "    }\n",
              "\n",
              "    .colab-df-convert:hover {\n",
              "      background-color: #E2EBFA;\n",
              "      box-shadow: 0px 1px 2px rgba(60, 64, 67, 0.3), 0px 1px 3px 1px rgba(60, 64, 67, 0.15);\n",
              "      fill: #174EA6;\n",
              "    }\n",
              "\n",
              "    [theme=dark] .colab-df-convert {\n",
              "      background-color: #3B4455;\n",
              "      fill: #D2E3FC;\n",
              "    }\n",
              "\n",
              "    [theme=dark] .colab-df-convert:hover {\n",
              "      background-color: #434B5C;\n",
              "      box-shadow: 0px 1px 3px 1px rgba(0, 0, 0, 0.15);\n",
              "      filter: drop-shadow(0px 1px 2px rgba(0, 0, 0, 0.3));\n",
              "      fill: #FFFFFF;\n",
              "    }\n",
              "  </style>\n",
              "\n",
              "      <script>\n",
              "        const buttonEl =\n",
              "          document.querySelector('#df-b124fca5-704f-43c8-b9da-53f4e5945a9e button.colab-df-convert');\n",
              "        buttonEl.style.display =\n",
              "          google.colab.kernel.accessAllowed ? 'block' : 'none';\n",
              "\n",
              "        async function convertToInteractive(key) {\n",
              "          const element = document.querySelector('#df-b124fca5-704f-43c8-b9da-53f4e5945a9e');\n",
              "          const dataTable =\n",
              "            await google.colab.kernel.invokeFunction('convertToInteractive',\n",
              "                                                     [key], {});\n",
              "          if (!dataTable) return;\n",
              "\n",
              "          const docLinkHtml = 'Like what you see? Visit the ' +\n",
              "            '<a target=\"_blank\" href=https://colab.research.google.com/notebooks/data_table.ipynb>data table notebook</a>'\n",
              "            + ' to learn more about interactive tables.';\n",
              "          element.innerHTML = '';\n",
              "          dataTable['output_type'] = 'display_data';\n",
              "          await google.colab.output.renderOutput(dataTable, element);\n",
              "          const docLink = document.createElement('div');\n",
              "          docLink.innerHTML = docLinkHtml;\n",
              "          element.appendChild(docLink);\n",
              "        }\n",
              "      </script>\n",
              "    </div>\n",
              "  </div>\n",
              "  "
            ]
          },
          "metadata": {},
          "execution_count": 36
        }
      ]
    },
    {
      "cell_type": "code",
      "source": [
        "# Convert the 'Date' column to datetime\n",
        "df['Date'] = pd.to_datetime(df['Date'])\n",
        "\n",
        "# Extract the day of the week\n",
        "df['DayOfWeek'] = df['Date'].dt.day_name()\n",
        "\n",
        "# Group the data by weekdays and weekends and calculate the average AQI\n",
        "grouped = df.groupby(df['DayOfWeek'].isin(['Saturday', 'Sunday']))['AQI'].mean()\n",
        "\n",
        "# Display the average AQI for weekdays and weekends\n",
        "print(grouped)"
      ],
      "metadata": {
        "colab": {
          "base_uri": "https://localhost:8080/"
        },
        "id": "9K0MelhJg1uN",
        "outputId": "6901162c-8e2c-4b7d-f202-3125d63a6a3d"
      },
      "execution_count": 37,
      "outputs": [
        {
          "output_type": "stream",
          "name": "stdout",
          "text": [
            "DayOfWeek\n",
            "False    43.703488\n",
            "True     43.257143\n",
            "Name: AQI, dtype: float64\n"
          ]
        }
      ]
    },
    {
      "cell_type": "code",
      "source": [
        "import matplotlib.pyplot as plt\n",
        "\n",
        "# Convert the 'Date' column to datetime\n",
        "df['Date'] = pd.to_datetime(df['Date'])\n",
        "\n",
        "# Extract the day of the week\n",
        "df['DayOfWeek'] = df['Date'].dt.day_name()\n",
        "\n",
        "# Group the data by weekdays and weekends and calculate the average AQI\n",
        "grouped = df.groupby(df['DayOfWeek'].isin(['Saturday', 'Sunday']))['AQI'].mean()\n",
        "\n",
        "# Plot the average AQI for weekdays and weekends\n",
        "grouped.plot(kind='bar', xlabel='Day of Week', ylabel='Average AQI', title='AQI Comparison: Weekdays vs. Weekends')\n",
        "\n",
        "# Display the plot\n",
        "plt.show()"
      ],
      "metadata": {
        "colab": {
          "base_uri": "https://localhost:8080/",
          "height": 493
        },
        "id": "e5DdbHtXhuXK",
        "outputId": "b6408cf8-d2d6-4139-d6e8-ef949b2032c4"
      },
      "execution_count": 38,
      "outputs": [
        {
          "output_type": "display_data",
          "data": {
            "text/plain": [
              "<Figure size 640x480 with 1 Axes>"
            ],
            "image/png": "[encoded data removed]"
          },
          "metadata": {}
        }
      ]
    },
    {
      "cell_type": "code",
      "source": [
        "import numpy as np\n",
        "\n",
        "# Reset the index to start at 1\n",
        "df.reset_index(drop=True, inplace=True)\n",
        "df.index = df.index + 1\n",
        "\n",
        "# Extract the day of the week\n",
        "df['DayOfWeek'] = df['Date'].dt.day_name()\n",
        "\n",
        "# Separate weekdays and weekends\n",
        "weekdays = df[df['DayOfWeek'].isin(['Monday', 'Tuesday', 'Wednesday', 'Thursday', 'Friday'])]\n",
        "weekends = df[df['DayOfWeek'].isin(['Saturday', 'Sunday'])]\n",
        "\n",
        "# Scatter plot for weekdays\n",
        "plt.scatter(weekdays.index, weekdays['AQI'], color='red', label='Weekdays')\n",
        "\n",
        "# Scatter plot for weekends\n",
        "plt.scatter(weekends.index, weekends['AQI'], color='blue', label='Weekends')\n",
        "\n",
        "# Line of best fit for weekdays\n",
        "weekday_line = np.polyfit(weekdays.index, weekdays['AQI'], 1)\n",
        "weekday_line_fn = np.poly1d(weekday_line)\n",
        "plt.plot(weekdays.index, weekday_line_fn(weekdays.index), color='red')\n",
        "\n",
        "# Line of best fit for weekends\n",
        "weekend_line = np.polyfit(weekends.index, weekends['AQI'], 1)\n",
        "weekend_line_fn = np.poly1d(weekend_line)\n",
        "plt.plot(weekends.index, weekend_line_fn(weekends.index), color='blue')\n",
        "\n",
        "# Set plot labels and title\n",
        "plt.xlabel('Data Point Index')\n",
        "plt.ylabel('AQI')\n",
        "plt.title('AQI Comparison: Weekdays vs. Weekends')\n",
        "\n",
        "# Display the legend\n",
        "plt.legend()\n",
        "\n",
        "# Display the plot\n",
        "plt.show()"
      ],
      "metadata": {
        "colab": {
          "base_uri": "https://localhost:8080/",
          "height": 472
        },
        "id": "b9WOpcRJhzXv",
        "outputId": "fb77c1e7-334a-441b-cc1e-89847b0fdd11"
      },
      "execution_count": 39,
      "outputs": [
        {
          "output_type": "display_data",
          "data": {
            "text/plain": [
              "<Figure size 640x480 with 1 Axes>"
            ],
            "image/png": "[encoded data removed]"
          },
          "metadata": {}
        }
      ]
    },
    {
      "cell_type": "code",
      "source": [],
      "metadata": {
        "id": "eDgkf3D3jkG3"
      },
      "execution_count": null,
      "outputs": []
    }
  ]
}