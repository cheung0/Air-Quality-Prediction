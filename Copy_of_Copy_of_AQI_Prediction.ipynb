{
  "nbformat": 4,
  "nbformat_minor": 0,
  "metadata": {
    "colab": {
      "provenance": [],
      "authorship_tag": "ABX9TyM9BileYReHUn8HjuELHRvo",
      "include_colab_link": true
    },
    "kernelspec": {
      "name": "python3",
      "display_name": "Python 3"
    },
    "language_info": {
      "name": "python"
    }
  },
  "cells": [
    {
      "cell_type": "markdown",
      "metadata": {
        "id": "view-in-github",
        "colab_type": "text"
      },
      "source": [
        "<a href=\"https://colab.research.google.com/github/cheung0/Predicting-Air-Quality/blob/main/Copy_of_Copy_of_AQI_Prediction.ipynb\" target=\"_parent\"><img src=\"https://colab.research.google.com/assets/colab-badge.svg\" alt=\"Open In Colab\"/></a>"
      ]
    },
    {
      "cell_type": "code",
      "execution_count": 10,
      "metadata": {
        "id": "7pWmYTXmjS3U"
      },
      "outputs": [],
      "source": [
        "import numpy as np\n",
        "import tensorflow as tf\n",
        "from tensorflow.keras.models import Sequential\n",
        "from tensorflow.keras.layers import Dense\n",
        "from tensorflow.keras.activations import linear, relu, sigmoid\n",
        "import matplotlib.pyplot as plt"
      ]
    },
    {
      "cell_type": "code",
      "source": [
        "import csv\n",
        "from datetime import datetime\n",
        "\n",
        "# Read the CSV file and get the column with the date\n",
        "with open('/Bay Area Air Quality.csv') as f:\n",
        "    reader = csv.reader(f)\n",
        "    header = next(reader)  # Skip the header row\n",
        "    date_col_index = header.index('Date')\n",
        "    rows = list(reader)\n",
        "\n",
        "# Convert the date into a day of the week and add it as a new column\n",
        "for row in rows:\n",
        "    date_str = row[date_col_index]\n",
        "    date_obj = datetime.strptime(date_str, '%m/%d/%Y')  # Parse the date string\n",
        "    day_of_week = date_obj.strftime('%A')  # Get the day of the week\n",
        "    row.append(day_of_week)\n",
        "\n",
        "# Write the updated CSV file\n",
        "with open('/output.csv', 'w', newline='') as f:\n",
        "    writer = csv.writer(f)\n",
        "    writer.writerow(header + ['DAY_OF_WEEK'])  # Add the new column to the header row\n",
        "    writer.writerows(rows)\n"
      ],
      "metadata": {
        "id": "5SUiId1Pe83i"
      },
      "execution_count": 14,
      "outputs": []
    },
    {
      "cell_type": "code",
      "source": [
        "import pandas as pd\n",
        "from google.colab import files\n",
        "#uploaded = files.upload()\n",
        "df = pd.read_csv('/output.csv')\n",
        "\n",
        "# get statistics of csv file\n",
        "df.describe()"
      ],
      "metadata": {
        "colab": {
          "base_uri": "https://localhost:8080/",
          "height": 399
        },
        "id": "AjcL5eiijmD2",
        "outputId": "da19f51e-1be8-4449-80f0-a7bfc03cda3d"
      },
      "execution_count": 15,
      "outputs": [
        {
          "output_type": "execute_result",
          "data": {
            "text/plain": [
              "            Site ID     POC  Daily Mean PM2.5 Concentration  DAILY_AQI_VALUE  \\\n",
              "count  1.678000e+03  1678.0                     1678.000000      1678.000000   \n",
              "mean   6.040419e+07     3.0                        5.566925        23.058403   \n",
              "std    3.901345e+05     0.0                        3.068820        12.087543   \n",
              "min    6.001001e+07     3.0                       -0.500000         0.000000   \n",
              "25%    6.001001e+07     3.0                        3.500000        15.000000   \n",
              "50%    6.013100e+07     3.0                        4.900000        20.000000   \n",
              "75%    6.085000e+07     3.0                        7.000000        29.000000   \n",
              "max    6.097000e+07     3.0                       26.100000        80.000000   \n",
              "\n",
              "       DAILY_OBS_COUNT  PERCENT_COMPLETE  AQS_PARAMETER_CODE     CBSA_CODE  \\\n",
              "count           1678.0            1678.0              1678.0   1678.000000   \n",
              "mean               1.0             100.0             88101.0  41925.244338   \n",
              "std                0.0               0.0                 0.0    343.538924   \n",
              "min                1.0             100.0             88101.0  41860.000000   \n",
              "25%                1.0             100.0             88101.0  41860.000000   \n",
              "50%                1.0             100.0             88101.0  41860.000000   \n",
              "75%                1.0             100.0             88101.0  41940.000000   \n",
              "max                1.0             100.0             88101.0  46700.000000   \n",
              "\n",
              "       STATE_CODE  COUNTY_CODE  SITE_LATITUDE  SITE_LONGITUDE  \n",
              "count      1678.0  1678.000000    1678.000000     1678.000000  \n",
              "mean          6.0    40.405244      37.719772     -122.149726  \n",
              "std           0.0    39.012638       0.326296        0.316856  \n",
              "min           6.0     1.000000      36.999571     -122.818294  \n",
              "25%           6.0     1.000000      37.482934     -122.356811  \n",
              "50%           6.0    13.000000      37.765946     -122.203370  \n",
              "75%           6.0    85.000000      37.936013     -121.894898  \n",
              "max           6.0    97.000000      38.403765     -121.574684  "
            ],
            "text/html": [
              "\n",
              "  <div id=\"df-6a021521-7e27-46b1-9885-c7c657b1cb7e\">\n",
              "    <div class=\"colab-df-container\">\n",
              "      <div>\n",
              "<style scoped>\n",
              "    .dataframe tbody tr th:only-of-type {\n",
              "        vertical-align: middle;\n",
              "    }\n",
              "\n",
              "    .dataframe tbody tr th {\n",
              "        vertical-align: top;\n",
              "    }\n",
              "\n",
              "    .dataframe thead th {\n",
              "        text-align: right;\n",
              "    }\n",
              "</style>\n",
              "<table border=\"1\" class=\"dataframe\">\n",
              "  <thead>\n",
              "    <tr style=\"text-align: right;\">\n",
              "      <th></th>\n",
              "      <th>Site ID</th>\n",
              "      <th>POC</th>\n",
              "      <th>Daily Mean PM2.5 Concentration</th>\n",
              "      <th>DAILY_AQI_VALUE</th>\n",
              "      <th>DAILY_OBS_COUNT</th>\n",
              "      <th>PERCENT_COMPLETE</th>\n",
              "      <th>AQS_PARAMETER_CODE</th>\n",
              "      <th>CBSA_CODE</th>\n",
              "      <th>STATE_CODE</th>\n",
              "      <th>COUNTY_CODE</th>\n",
              "      <th>SITE_LATITUDE</th>\n",
              "      <th>SITE_LONGITUDE</th>\n",
              "    </tr>\n",
              "  </thead>\n",
              "  <tbody>\n",
              "    <tr>\n",
              "      <th>count</th>\n",
              "      <td>1.678000e+03</td>\n",
              "      <td>1678.0</td>\n",
              "      <td>1678.000000</td>\n",
              "      <td>1678.000000</td>\n",
              "      <td>1678.0</td>\n",
              "      <td>1678.0</td>\n",
              "      <td>1678.0</td>\n",
              "      <td>1678.000000</td>\n",
              "      <td>1678.0</td>\n",
              "      <td>1678.000000</td>\n",
              "      <td>1678.000000</td>\n",
              "      <td>1678.000000</td>\n",
              "    </tr>\n",
              "    <tr>\n",
              "      <th>mean</th>\n",
              "      <td>6.040419e+07</td>\n",
              "      <td>3.0</td>\n",
              "      <td>5.566925</td>\n",
              "      <td>23.058403</td>\n",
              "      <td>1.0</td>\n",
              "      <td>100.0</td>\n",
              "      <td>88101.0</td>\n",
              "      <td>41925.244338</td>\n",
              "      <td>6.0</td>\n",
              "      <td>40.405244</td>\n",
              "      <td>37.719772</td>\n",
              "      <td>-122.149726</td>\n",
              "    </tr>\n",
              "    <tr>\n",
              "      <th>std</th>\n",
              "      <td>3.901345e+05</td>\n",
              "      <td>0.0</td>\n",
              "      <td>3.068820</td>\n",
              "      <td>12.087543</td>\n",
              "      <td>0.0</td>\n",
              "      <td>0.0</td>\n",
              "      <td>0.0</td>\n",
              "      <td>343.538924</td>\n",
              "      <td>0.0</td>\n",
              "      <td>39.012638</td>\n",
              "      <td>0.326296</td>\n",
              "      <td>0.316856</td>\n",
              "    </tr>\n",
              "    <tr>\n",
              "      <th>min</th>\n",
              "      <td>6.001001e+07</td>\n",
              "      <td>3.0</td>\n",
              "      <td>-0.500000</td>\n",
              "      <td>0.000000</td>\n",
              "      <td>1.0</td>\n",
              "      <td>100.0</td>\n",
              "      <td>88101.0</td>\n",
              "      <td>41860.000000</td>\n",
              "      <td>6.0</td>\n",
              "      <td>1.000000</td>\n",
              "      <td>36.999571</td>\n",
              "      <td>-122.818294</td>\n",
              "    </tr>\n",
              "    <tr>\n",
              "      <th>25%</th>\n",
              "      <td>6.001001e+07</td>\n",
              "      <td>3.0</td>\n",
              "      <td>3.500000</td>\n",
              "      <td>15.000000</td>\n",
              "      <td>1.0</td>\n",
              "      <td>100.0</td>\n",
              "      <td>88101.0</td>\n",
              "      <td>41860.000000</td>\n",
              "      <td>6.0</td>\n",
              "      <td>1.000000</td>\n",
              "      <td>37.482934</td>\n",
              "      <td>-122.356811</td>\n",
              "    </tr>\n",
              "    <tr>\n",
              "      <th>50%</th>\n",
              "      <td>6.013100e+07</td>\n",
              "      <td>3.0</td>\n",
              "      <td>4.900000</td>\n",
              "      <td>20.000000</td>\n",
              "      <td>1.0</td>\n",
              "      <td>100.0</td>\n",
              "      <td>88101.0</td>\n",
              "      <td>41860.000000</td>\n",
              "      <td>6.0</td>\n",
              "      <td>13.000000</td>\n",
              "      <td>37.765946</td>\n",
              "      <td>-122.203370</td>\n",
              "    </tr>\n",
              "    <tr>\n",
              "      <th>75%</th>\n",
              "      <td>6.085000e+07</td>\n",
              "      <td>3.0</td>\n",
              "      <td>7.000000</td>\n",
              "      <td>29.000000</td>\n",
              "      <td>1.0</td>\n",
              "      <td>100.0</td>\n",
              "      <td>88101.0</td>\n",
              "      <td>41940.000000</td>\n",
              "      <td>6.0</td>\n",
              "      <td>85.000000</td>\n",
              "      <td>37.936013</td>\n",
              "      <td>-121.894898</td>\n",
              "    </tr>\n",
              "    <tr>\n",
              "      <th>max</th>\n",
              "      <td>6.097000e+07</td>\n",
              "      <td>3.0</td>\n",
              "      <td>26.100000</td>\n",
              "      <td>80.000000</td>\n",
              "      <td>1.0</td>\n",
              "      <td>100.0</td>\n",
              "      <td>88101.0</td>\n",
              "      <td>46700.000000</td>\n",
              "      <td>6.0</td>\n",
              "      <td>97.000000</td>\n",
              "      <td>38.403765</td>\n",
              "      <td>-121.574684</td>\n",
              "    </tr>\n",
              "  </tbody>\n",
              "</table>\n",
              "</div>\n",
              "      <button class=\"colab-df-convert\" onclick=\"convertToInteractive('df-6a021521-7e27-46b1-9885-c7c657b1cb7e')\"\n",
              "              title=\"Convert this dataframe to an interactive table.\"\n",
              "              style=\"display:none;\">\n",
              "        \n",
              "  <svg xmlns=\"http://www.w3.org/2000/svg\" height=\"24px\"viewBox=\"0 0 24 24\"\n",
              "       width=\"24px\">\n",
              "    <path d=\"M0 0h24v24H0V0z\" fill=\"none\"/>\n",
              "    <path d=\"M18.56 5.44l.94 2.06.94-2.06 2.06-.94-2.06-.94-.94-2.06-.94 2.06-2.06.94zm-11 1L8.5 8.5l.94-2.06 2.06-.94-2.06-.94L8.5 2.5l-.94 2.06-2.06.94zm10 10l.94 2.06.94-2.06 2.06-.94-2.06-.94-.94-2.06-.94 2.06-2.06.94z\"/><path d=\"M17.41 7.96l-1.37-1.37c-.4-.4-.92-.59-1.43-.59-.52 0-1.04.2-1.43.59L10.3 9.45l-7.72 7.72c-.78.78-.78 2.05 0 2.83L4 21.41c.39.39.9.59 1.41.59.51 0 1.02-.2 1.41-.59l7.78-7.78 2.81-2.81c.8-.78.8-2.07 0-2.86zM5.41 20L4 18.59l7.72-7.72 1.47 1.35L5.41 20z\"/>\n",
              "  </svg>\n",
              "      </button>\n",
              "      \n",
              "  <style>\n",
              "    .colab-df-container {\n",
              "      display:flex;\n",
              "      flex-wrap:wrap;\n",
              "      gap: 12px;\n",
              "    }\n",
              "\n",
              "    .colab-df-convert {\n",
              "      background-color: #E8F0FE;\n",
              "      border: none;\n",
              "      border-radius: 50%;\n",
              "      cursor: pointer;\n",
              "      display: none;\n",
              "      fill: #1967D2;\n",
              "      height: 32px;\n",
              "      padding: 0 0 0 0;\n",
              "      width: 32px;\n",
              "    }\n",
              "\n",
              "    .colab-df-convert:hover {\n",
              "      background-color: #E2EBFA;\n",
              "      box-shadow: 0px 1px 2px rgba(60, 64, 67, 0.3), 0px 1px 3px 1px rgba(60, 64, 67, 0.15);\n",
              "      fill: #174EA6;\n",
              "    }\n",
              "\n",
              "    [theme=dark] .colab-df-convert {\n",
              "      background-color: #3B4455;\n",
              "      fill: #D2E3FC;\n",
              "    }\n",
              "\n",
              "    [theme=dark] .colab-df-convert:hover {\n",
              "      background-color: #434B5C;\n",
              "      box-shadow: 0px 1px 3px 1px rgba(0, 0, 0, 0.15);\n",
              "      filter: drop-shadow(0px 1px 2px rgba(0, 0, 0, 0.3));\n",
              "      fill: #FFFFFF;\n",
              "    }\n",
              "  </style>\n",
              "\n",
              "      <script>\n",
              "        const buttonEl =\n",
              "          document.querySelector('#df-6a021521-7e27-46b1-9885-c7c657b1cb7e button.colab-df-convert');\n",
              "        buttonEl.style.display =\n",
              "          google.colab.kernel.accessAllowed ? 'block' : 'none';\n",
              "\n",
              "        async function convertToInteractive(key) {\n",
              "          const element = document.querySelector('#df-6a021521-7e27-46b1-9885-c7c657b1cb7e');\n",
              "          const dataTable =\n",
              "            await google.colab.kernel.invokeFunction('convertToInteractive',\n",
              "                                                     [key], {});\n",
              "          if (!dataTable) return;\n",
              "\n",
              "          const docLinkHtml = 'Like what you see? Visit the ' +\n",
              "            '<a target=\"_blank\" href=https://colab.research.google.com/notebooks/data_table.ipynb>data table notebook</a>'\n",
              "            + ' to learn more about interactive tables.';\n",
              "          element.innerHTML = '';\n",
              "          dataTable['output_type'] = 'display_data';\n",
              "          await google.colab.output.renderOutput(dataTable, element);\n",
              "          const docLink = document.createElement('div');\n",
              "          docLink.innerHTML = docLinkHtml;\n",
              "          element.appendChild(docLink);\n",
              "        }\n",
              "      </script>\n",
              "    </div>\n",
              "  </div>\n",
              "  "
            ]
          },
          "metadata": {},
          "execution_count": 15
        }
      ]
    },
    {
      "cell_type": "code",
      "source": [
        "import numpy as np\n",
        "import pandas as pd\n",
        "\n",
        "# Data Visualisation\n",
        "\n",
        "import matplotlib.pyplot as plt \n",
        "import seaborn as sns"
      ],
      "metadata": {
        "id": "ch4bzHvv8WJN"
      },
      "execution_count": 16,
      "outputs": []
    },
    {
      "cell_type": "code",
      "source": [
        "# List of specific days of the week\n",
        "days_of_week = ['Monday', 'Tuesday', 'Wednesday', 'Thursday', 'Friday', 'Saturday', 'Sunday']\n",
        "\n",
        "# Iterate over each day and calculate the AQI statistics\n",
        "for day in days_of_week:\n",
        "    # Filter the data for the specific day\n",
        "    day_data = df[df['DAY_OF_WEEK'] == day]\n",
        "    \n",
        "    # Calculate the AQI statistics for the specific day\n",
        "    aqi_stats = day_data['DAILY_AQI_VALUE'].agg(['min', 'max', 'mean', 'median', 'std'])\n",
        "    \n",
        "    # Print the AQI statistics for the specific day\n",
        "    print(\"AQI statistics for\", day)\n",
        "    print(aqi_stats)\n",
        "    print()"
      ],
      "metadata": {
        "colab": {
          "base_uri": "https://localhost:8080/"
        },
        "id": "PTu3WCyTUZhn",
        "outputId": "aa69f1c8-10a2-4c3c-9faf-d4a396cd7cc5"
      },
      "execution_count": 17,
      "outputs": [
        {
          "output_type": "stream",
          "name": "stdout",
          "text": [
            "AQI statistics for Monday\n",
            "min        0.000000\n",
            "max       66.000000\n",
            "mean      22.152263\n",
            "median    19.000000\n",
            "std       12.163719\n",
            "Name: DAILY_AQI_VALUE, dtype: float64\n",
            "\n",
            "AQI statistics for Tuesday\n",
            "min        0.000000\n",
            "max       54.000000\n",
            "mean      21.289256\n",
            "median    20.000000\n",
            "std       10.722790\n",
            "Name: DAILY_AQI_VALUE, dtype: float64\n",
            "\n",
            "AQI statistics for Wednesday\n",
            "min        0.000000\n",
            "max       59.000000\n",
            "mean      22.134694\n",
            "median    19.000000\n",
            "std       12.643043\n",
            "Name: DAILY_AQI_VALUE, dtype: float64\n",
            "\n",
            "AQI statistics for Thursday\n",
            "min        0.000000\n",
            "max       73.000000\n",
            "mean      25.862500\n",
            "median    23.000000\n",
            "std       13.581378\n",
            "Name: DAILY_AQI_VALUE, dtype: float64\n",
            "\n",
            "AQI statistics for Friday\n",
            "min        0.000000\n",
            "max       64.000000\n",
            "mean      25.311966\n",
            "median    24.000000\n",
            "std       11.304643\n",
            "Name: DAILY_AQI_VALUE, dtype: float64\n",
            "\n",
            "AQI statistics for Saturday\n",
            "min        0.000000\n",
            "max       63.000000\n",
            "mean      23.864407\n",
            "median    21.000000\n",
            "std       11.776945\n",
            "Name: DAILY_AQI_VALUE, dtype: float64\n",
            "\n",
            "AQI statistics for Sunday\n",
            "min        0.000000\n",
            "max       80.000000\n",
            "mean      20.890756\n",
            "median    18.500000\n",
            "std       11.351529\n",
            "Name: DAILY_AQI_VALUE, dtype: float64\n",
            "\n"
          ]
        }
      ]
    },
    {
      "cell_type": "markdown",
      "source": [
        "Average AQI for weekends is around 23 and average AQI for weekdays is 23.6. "
      ],
      "metadata": {
        "id": "ECeekZ82YEt8"
      }
    },
    {
      "cell_type": "code",
      "source": [
        "df = pd.get_dummies(df, columns=['DAY_OF_WEEK'])"
      ],
      "metadata": {
        "id": "e5yEkEWPDuWE"
      },
      "execution_count": 18,
      "outputs": []
    },
    {
      "cell_type": "code",
      "source": [
        "df = df.drop([\"Date\",\"Source\",\"Site ID\",\"POC\",\"UNITS\",\"Site Name\",\"DAILY_OBS_COUNT\",\"PERCENT_COMPLETE\",\"AQS_PARAMETER_CODE\",\"AQS_PARAMETER_DESC\",\"CBSA_CODE\",\"CBSA_NAME\",\"STATE_CODE\",\"STATE\",\"COUNTY_CODE\",\"COUNTY\",\"SITE_LATITUDE\",\"SITE_LONGITUDE\"\n",
        "], axis=1)\n"
      ],
      "metadata": {
        "id": "EapJjShkIJtr"
      },
      "execution_count": 19,
      "outputs": []
    },
    {
      "cell_type": "code",
      "source": [
        "df"
      ],
      "metadata": {
        "colab": {
          "base_uri": "https://localhost:8080/",
          "height": 522
        },
        "id": "Vh10sIy6IiXh",
        "outputId": "54ffa1d2-0520-4ded-b298-0d0e3d5c2ab5"
      },
      "execution_count": 20,
      "outputs": [
        {
          "output_type": "execute_result",
          "data": {
            "text/plain": [
              "      Daily Mean PM2.5 Concentration  DAILY_AQI_VALUE  DAY_OF_WEEK_Friday  \\\n",
              "0                                6.4               27                   0   \n",
              "1                                6.7               28                   0   \n",
              "2                                5.6               23                   0   \n",
              "3                                3.1               13                   0   \n",
              "4                                6.4               27                   0   \n",
              "...                              ...              ...                 ...   \n",
              "1673                             1.4                6                   0   \n",
              "1674                             3.2               13                   0   \n",
              "1675                             3.0               13                   0   \n",
              "1676                             2.2                9                   1   \n",
              "1677                             3.8               16                   0   \n",
              "\n",
              "      DAY_OF_WEEK_Monday  DAY_OF_WEEK_Saturday  DAY_OF_WEEK_Sunday  \\\n",
              "0                      0                     0                   1   \n",
              "1                      1                     0                   0   \n",
              "2                      0                     0                   0   \n",
              "3                      0                     0                   0   \n",
              "4                      0                     0                   0   \n",
              "...                  ...                   ...                 ...   \n",
              "1673                   0                     0                   0   \n",
              "1674                   0                     0                   0   \n",
              "1675                   0                     0                   0   \n",
              "1676                   0                     0                   0   \n",
              "1677                   0                     1                   0   \n",
              "\n",
              "      DAY_OF_WEEK_Thursday  DAY_OF_WEEK_Tuesday  DAY_OF_WEEK_Wednesday  \n",
              "0                        0                    0                      0  \n",
              "1                        0                    0                      0  \n",
              "2                        0                    1                      0  \n",
              "3                        0                    0                      1  \n",
              "4                        1                    0                      0  \n",
              "...                    ...                  ...                    ...  \n",
              "1673                     0                    1                      0  \n",
              "1674                     0                    0                      1  \n",
              "1675                     1                    0                      0  \n",
              "1676                     0                    0                      0  \n",
              "1677                     0                    0                      0  \n",
              "\n",
              "[1678 rows x 9 columns]"
            ],
            "text/html": [
              "\n",
              "  <div id=\"df-f64ff270-41a9-4241-a852-1d7f06568302\">\n",
              "    <div class=\"colab-df-container\">\n",
              "      <div>\n",
              "<style scoped>\n",
              "    .dataframe tbody tr th:only-of-type {\n",
              "        vertical-align: middle;\n",
              "    }\n",
              "\n",
              "    .dataframe tbody tr th {\n",
              "        vertical-align: top;\n",
              "    }\n",
              "\n",
              "    .dataframe thead th {\n",
              "        text-align: right;\n",
              "    }\n",
              "</style>\n",
              "<table border=\"1\" class=\"dataframe\">\n",
              "  <thead>\n",
              "    <tr style=\"text-align: right;\">\n",
              "      <th></th>\n",
              "      <th>Daily Mean PM2.5 Concentration</th>\n",
              "      <th>DAILY_AQI_VALUE</th>\n",
              "      <th>DAY_OF_WEEK_Friday</th>\n",
              "      <th>DAY_OF_WEEK_Monday</th>\n",
              "      <th>DAY_OF_WEEK_Saturday</th>\n",
              "      <th>DAY_OF_WEEK_Sunday</th>\n",
              "      <th>DAY_OF_WEEK_Thursday</th>\n",
              "      <th>DAY_OF_WEEK_Tuesday</th>\n",
              "      <th>DAY_OF_WEEK_Wednesday</th>\n",
              "    </tr>\n",
              "  </thead>\n",
              "  <tbody>\n",
              "    <tr>\n",
              "      <th>0</th>\n",
              "      <td>6.4</td>\n",
              "      <td>27</td>\n",
              "      <td>0</td>\n",
              "      <td>0</td>\n",
              "      <td>0</td>\n",
              "      <td>1</td>\n",
              "      <td>0</td>\n",
              "      <td>0</td>\n",
              "      <td>0</td>\n",
              "    </tr>\n",
              "    <tr>\n",
              "      <th>1</th>\n",
              "      <td>6.7</td>\n",
              "      <td>28</td>\n",
              "      <td>0</td>\n",
              "      <td>1</td>\n",
              "      <td>0</td>\n",
              "      <td>0</td>\n",
              "      <td>0</td>\n",
              "      <td>0</td>\n",
              "      <td>0</td>\n",
              "    </tr>\n",
              "    <tr>\n",
              "      <th>2</th>\n",
              "      <td>5.6</td>\n",
              "      <td>23</td>\n",
              "      <td>0</td>\n",
              "      <td>0</td>\n",
              "      <td>0</td>\n",
              "      <td>0</td>\n",
              "      <td>0</td>\n",
              "      <td>1</td>\n",
              "      <td>0</td>\n",
              "    </tr>\n",
              "    <tr>\n",
              "      <th>3</th>\n",
              "      <td>3.1</td>\n",
              "      <td>13</td>\n",
              "      <td>0</td>\n",
              "      <td>0</td>\n",
              "      <td>0</td>\n",
              "      <td>0</td>\n",
              "      <td>0</td>\n",
              "      <td>0</td>\n",
              "      <td>1</td>\n",
              "    </tr>\n",
              "    <tr>\n",
              "      <th>4</th>\n",
              "      <td>6.4</td>\n",
              "      <td>27</td>\n",
              "      <td>0</td>\n",
              "      <td>0</td>\n",
              "      <td>0</td>\n",
              "      <td>0</td>\n",
              "      <td>1</td>\n",
              "      <td>0</td>\n",
              "      <td>0</td>\n",
              "    </tr>\n",
              "    <tr>\n",
              "      <th>...</th>\n",
              "      <td>...</td>\n",
              "      <td>...</td>\n",
              "      <td>...</td>\n",
              "      <td>...</td>\n",
              "      <td>...</td>\n",
              "      <td>...</td>\n",
              "      <td>...</td>\n",
              "      <td>...</td>\n",
              "      <td>...</td>\n",
              "    </tr>\n",
              "    <tr>\n",
              "      <th>1673</th>\n",
              "      <td>1.4</td>\n",
              "      <td>6</td>\n",
              "      <td>0</td>\n",
              "      <td>0</td>\n",
              "      <td>0</td>\n",
              "      <td>0</td>\n",
              "      <td>0</td>\n",
              "      <td>1</td>\n",
              "      <td>0</td>\n",
              "    </tr>\n",
              "    <tr>\n",
              "      <th>1674</th>\n",
              "      <td>3.2</td>\n",
              "      <td>13</td>\n",
              "      <td>0</td>\n",
              "      <td>0</td>\n",
              "      <td>0</td>\n",
              "      <td>0</td>\n",
              "      <td>0</td>\n",
              "      <td>0</td>\n",
              "      <td>1</td>\n",
              "    </tr>\n",
              "    <tr>\n",
              "      <th>1675</th>\n",
              "      <td>3.0</td>\n",
              "      <td>13</td>\n",
              "      <td>0</td>\n",
              "      <td>0</td>\n",
              "      <td>0</td>\n",
              "      <td>0</td>\n",
              "      <td>1</td>\n",
              "      <td>0</td>\n",
              "      <td>0</td>\n",
              "    </tr>\n",
              "    <tr>\n",
              "      <th>1676</th>\n",
              "      <td>2.2</td>\n",
              "      <td>9</td>\n",
              "      <td>1</td>\n",
              "      <td>0</td>\n",
              "      <td>0</td>\n",
              "      <td>0</td>\n",
              "      <td>0</td>\n",
              "      <td>0</td>\n",
              "      <td>0</td>\n",
              "    </tr>\n",
              "    <tr>\n",
              "      <th>1677</th>\n",
              "      <td>3.8</td>\n",
              "      <td>16</td>\n",
              "      <td>0</td>\n",
              "      <td>0</td>\n",
              "      <td>1</td>\n",
              "      <td>0</td>\n",
              "      <td>0</td>\n",
              "      <td>0</td>\n",
              "      <td>0</td>\n",
              "    </tr>\n",
              "  </tbody>\n",
              "</table>\n",
              "<p>1678 rows × 9 columns</p>\n",
              "</div>\n",
              "      <button class=\"colab-df-convert\" onclick=\"convertToInteractive('df-f64ff270-41a9-4241-a852-1d7f06568302')\"\n",
              "              title=\"Convert this dataframe to an interactive table.\"\n",
              "              style=\"display:none;\">\n",
              "        \n",
              "  <svg xmlns=\"http://www.w3.org/2000/svg\" height=\"24px\"viewBox=\"0 0 24 24\"\n",
              "       width=\"24px\">\n",
              "    <path d=\"M0 0h24v24H0V0z\" fill=\"none\"/>\n",
              "    <path d=\"M18.56 5.44l.94 2.06.94-2.06 2.06-.94-2.06-.94-.94-2.06-.94 2.06-2.06.94zm-11 1L8.5 8.5l.94-2.06 2.06-.94-2.06-.94L8.5 2.5l-.94 2.06-2.06.94zm10 10l.94 2.06.94-2.06 2.06-.94-2.06-.94-.94-2.06-.94 2.06-2.06.94z\"/><path d=\"M17.41 7.96l-1.37-1.37c-.4-.4-.92-.59-1.43-.59-.52 0-1.04.2-1.43.59L10.3 9.45l-7.72 7.72c-.78.78-.78 2.05 0 2.83L4 21.41c.39.39.9.59 1.41.59.51 0 1.02-.2 1.41-.59l7.78-7.78 2.81-2.81c.8-.78.8-2.07 0-2.86zM5.41 20L4 18.59l7.72-7.72 1.47 1.35L5.41 20z\"/>\n",
              "  </svg>\n",
              "      </button>\n",
              "      \n",
              "  <style>\n",
              "    .colab-df-container {\n",
              "      display:flex;\n",
              "      flex-wrap:wrap;\n",
              "      gap: 12px;\n",
              "    }\n",
              "\n",
              "    .colab-df-convert {\n",
              "      background-color: #E8F0FE;\n",
              "      border: none;\n",
              "      border-radius: 50%;\n",
              "      cursor: pointer;\n",
              "      display: none;\n",
              "      fill: #1967D2;\n",
              "      height: 32px;\n",
              "      padding: 0 0 0 0;\n",
              "      width: 32px;\n",
              "    }\n",
              "\n",
              "    .colab-df-convert:hover {\n",
              "      background-color: #E2EBFA;\n",
              "      box-shadow: 0px 1px 2px rgba(60, 64, 67, 0.3), 0px 1px 3px 1px rgba(60, 64, 67, 0.15);\n",
              "      fill: #174EA6;\n",
              "    }\n",
              "\n",
              "    [theme=dark] .colab-df-convert {\n",
              "      background-color: #3B4455;\n",
              "      fill: #D2E3FC;\n",
              "    }\n",
              "\n",
              "    [theme=dark] .colab-df-convert:hover {\n",
              "      background-color: #434B5C;\n",
              "      box-shadow: 0px 1px 3px 1px rgba(0, 0, 0, 0.15);\n",
              "      filter: drop-shadow(0px 1px 2px rgba(0, 0, 0, 0.3));\n",
              "      fill: #FFFFFF;\n",
              "    }\n",
              "  </style>\n",
              "\n",
              "      <script>\n",
              "        const buttonEl =\n",
              "          document.querySelector('#df-f64ff270-41a9-4241-a852-1d7f06568302 button.colab-df-convert');\n",
              "        buttonEl.style.display =\n",
              "          google.colab.kernel.accessAllowed ? 'block' : 'none';\n",
              "\n",
              "        async function convertToInteractive(key) {\n",
              "          const element = document.querySelector('#df-f64ff270-41a9-4241-a852-1d7f06568302');\n",
              "          const dataTable =\n",
              "            await google.colab.kernel.invokeFunction('convertToInteractive',\n",
              "                                                     [key], {});\n",
              "          if (!dataTable) return;\n",
              "\n",
              "          const docLinkHtml = 'Like what you see? Visit the ' +\n",
              "            '<a target=\"_blank\" href=https://colab.research.google.com/notebooks/data_table.ipynb>data table notebook</a>'\n",
              "            + ' to learn more about interactive tables.';\n",
              "          element.innerHTML = '';\n",
              "          dataTable['output_type'] = 'display_data';\n",
              "          await google.colab.output.renderOutput(dataTable, element);\n",
              "          const docLink = document.createElement('div');\n",
              "          docLink.innerHTML = docLinkHtml;\n",
              "          element.appendChild(docLink);\n",
              "        }\n",
              "      </script>\n",
              "    </div>\n",
              "  </div>\n",
              "  "
            ]
          },
          "metadata": {},
          "execution_count": 20
        }
      ]
    },
    {
      "cell_type": "code",
      "source": [
        "df_train, df_test = train_test_split(df, train_size = 0.7, test_size = 0.3, random_state = 100)\n"
      ],
      "metadata": {
        "id": "Rs3PUfpD8WOa"
      },
      "execution_count": null,
      "outputs": []
    },
    {
      "cell_type": "code",
      "source": [
        "from sklearn.preprocessing import MinMaxScaler\n",
        "scaler = MinMaxScaler()\n",
        "# Apply scaler() to all the columns except the 'yes-no' and 'dummy' variables\n",
        "num_vars = ['Daily Mean PM2.5 Concentration', 'DAILY_AQI_VALUE']\n",
        "\n",
        "df_train[num_vars] = scaler.fit_transform(df_train[num_vars])\n",
        "df_test[num_vars] = scaler.fit_transform(df_test[num_vars])"
      ],
      "metadata": {
        "id": "9i0P9H4x8WRT"
      },
      "execution_count": null,
      "outputs": []
    },
    {
      "cell_type": "code",
      "source": [
        "# Split the training set into features (X_train) and target variable (y_train)\n",
        "X_train = df_train.drop(columns=[\"DAILY_AQI_VALUE\"])  # Remove the target variable column\n",
        "y_train = df_train[\"DAILY_AQI_VALUE\"]  # Select the target variable column\n",
        "\n",
        "# Split the test set into features (X_test) and target variable (y_test)\n",
        "X_test = df_test.drop(columns=[\"DAILY_AQI_VALUE\"])  # Remove the target variable column\n",
        "y_test = df_test[\"DAILY_AQI_VALUE\"]  # Select the target variable column\n"
      ],
      "metadata": {
        "id": "suOnVcIfQ-oq"
      },
      "execution_count": null,
      "outputs": []
    },
    {
      "cell_type": "code",
      "source": [
        "plt.figure(figsize = (16, 10))\n",
        "sns.heatmap(df_train.corr(), annot = True, cmap=\"YlGnBu\")\n",
        "plt.show()"
      ],
      "metadata": {
        "colab": {
          "base_uri": "https://localhost:8080/",
          "height": 1000
        },
        "id": "wVCODJE7GOAQ",
        "outputId": "068018d5-97a6-40d5-b544-7c03fc2186aa"
      },
      "execution_count": null,
      "outputs": [
        {
          "output_type": "display_data",
          "data": {
            "text/plain": [
              "<Figure size 1600x1000 with 2 Axes>"
            ],
            "image/png": "[encoded data removed]"
          },
          "metadata": {}
        }
      ]
    },
    {
      "cell_type": "code",
      "source": [
        "y_train = df_train.pop('DAILY_AQI_VALUE')\n",
        "X_train = df_train"
      ],
      "metadata": {
        "id": "wRAuCTarGOCq"
      },
      "execution_count": null,
      "outputs": []
    },
    {
      "cell_type": "code",
      "source": [
        "y_train"
      ],
      "metadata": {
        "colab": {
          "base_uri": "https://localhost:8080/"
        },
        "id": "v0cMs2WBH3us",
        "outputId": "e9f3823f-d9b5-42d1-d124-95488071b37b"
      },
      "execution_count": null,
      "outputs": [
        {
          "output_type": "execute_result",
          "data": {
            "text/plain": [
              "425    0.180556\n",
              "579    0.222222\n",
              "173    0.222222\n",
              "277    0.625000\n",
              "378    0.388889\n",
              "         ...   \n",
              "578    0.250000\n",
              "53     0.083333\n",
              "350    0.402778\n",
              "79     0.194444\n",
              "520    0.472222\n",
              "Name: DAILY_AQI_VALUE, Length: 495, dtype: float64"
            ]
          },
          "metadata": {},
          "execution_count": 122
        }
      ]
    },
    {
      "cell_type": "code",
      "source": [
        "from sklearn.linear_model import LinearRegression\n",
        "lm = LinearRegression()\n",
        "lm.fit(X_train, y_train)"
      ],
      "metadata": {
        "colab": {
          "base_uri": "https://localhost:8080/",
          "height": 75
        },
        "id": "T5ZFsBcWHoYu",
        "outputId": "1bfc05c1-91c5-4e97-9c21-48e7473e3482"
      },
      "execution_count": null,
      "outputs": [
        {
          "output_type": "execute_result",
          "data": {
            "text/plain": [
              "LinearRegression()"
            ],
            "text/html": [
              "<style>#sk-container-id-5 {color: black;background-color: white;}#sk-container-id-5 pre{padding: 0;}#sk-container-id-5 div.sk-toggleable {background-color: white;}#sk-container-id-5 label.sk-toggleable__label {cursor: pointer;display: block;width: 100%;margin-bottom: 0;padding: 0.3em;box-sizing: border-box;text-align: center;}#sk-container-id-5 label.sk-toggleable__label-arrow:before {content: \"▸\";float: left;margin-right: 0.25em;color: #696969;}#sk-container-id-5 label.sk-toggleable__label-arrow:hover:before {color: black;}#sk-container-id-5 div.sk-estimator:hover label.sk-toggleable__label-arrow:before {color: black;}#sk-container-id-5 div.sk-toggleable__content {max-height: 0;max-width: 0;overflow: hidden;text-align: left;background-color: #f0f8ff;}#sk-container-id-5 div.sk-toggleable__content pre {margin: 0.2em;color: black;border-radius: 0.25em;background-color: #f0f8ff;}#sk-container-id-5 input.sk-toggleable__control:checked~div.sk-toggleable__content {max-height: 200px;max-width: 100%;overflow: auto;}#sk-container-id-5 input.sk-toggleable__control:checked~label.sk-toggleable__label-arrow:before {content: \"▾\";}#sk-container-id-5 div.sk-estimator input.sk-toggleable__control:checked~label.sk-toggleable__label {background-color: #d4ebff;}#sk-container-id-5 div.sk-label input.sk-toggleable__control:checked~label.sk-toggleable__label {background-color: #d4ebff;}#sk-container-id-5 input.sk-hidden--visually {border: 0;clip: rect(1px 1px 1px 1px);clip: rect(1px, 1px, 1px, 1px);height: 1px;margin: -1px;overflow: hidden;padding: 0;position: absolute;width: 1px;}#sk-container-id-5 div.sk-estimator {font-family: monospace;background-color: #f0f8ff;border: 1px dotted black;border-radius: 0.25em;box-sizing: border-box;margin-bottom: 0.5em;}#sk-container-id-5 div.sk-estimator:hover {background-color: #d4ebff;}#sk-container-id-5 div.sk-parallel-item::after {content: \"\";width: 100%;border-bottom: 1px solid gray;flex-grow: 1;}#sk-container-id-5 div.sk-label:hover label.sk-toggleable__label {background-color: #d4ebff;}#sk-container-id-5 div.sk-serial::before {content: \"\";position: absolute;border-left: 1px solid gray;box-sizing: border-box;top: 0;bottom: 0;left: 50%;z-index: 0;}#sk-container-id-5 div.sk-serial {display: flex;flex-direction: column;align-items: center;background-color: white;padding-right: 0.2em;padding-left: 0.2em;position: relative;}#sk-container-id-5 div.sk-item {position: relative;z-index: 1;}#sk-container-id-5 div.sk-parallel {display: flex;align-items: stretch;justify-content: center;background-color: white;position: relative;}#sk-container-id-5 div.sk-item::before, #sk-container-id-5 div.sk-parallel-item::before {content: \"\";position: absolute;border-left: 1px solid gray;box-sizing: border-box;top: 0;bottom: 0;left: 50%;z-index: -1;}#sk-container-id-5 div.sk-parallel-item {display: flex;flex-direction: column;z-index: 1;position: relative;background-color: white;}#sk-container-id-5 div.sk-parallel-item:first-child::after {align-self: flex-end;width: 50%;}#sk-container-id-5 div.sk-parallel-item:last-child::after {align-self: flex-start;width: 50%;}#sk-container-id-5 div.sk-parallel-item:only-child::after {width: 0;}#sk-container-id-5 div.sk-dashed-wrapped {border: 1px dashed gray;margin: 0 0.4em 0.5em 0.4em;box-sizing: border-box;padding-bottom: 0.4em;background-color: white;}#sk-container-id-5 div.sk-label label {font-family: monospace;font-weight: bold;display: inline-block;line-height: 1.2em;}#sk-container-id-5 div.sk-label-container {text-align: center;}#sk-container-id-5 div.sk-container {/* jupyter's `normalize.less` sets `[hidden] { display: none; }` but bootstrap.min.css set `[hidden] { display: none !important; }` so we also need the `!important` here to be able to override the default hidden behavior on the sphinx rendered scikit-learn.org. See: https://github.com/scikit-learn/scikit-learn/issues/21755 */display: inline-block !important;position: relative;}#sk-container-id-5 div.sk-text-repr-fallback {display: none;}</style><div id=\"sk-container-id-5\" class=\"sk-top-container\"><div class=\"sk-text-repr-fallback\"><pre>LinearRegression()</pre><b>In a Jupyter environment, please rerun this cell to show the HTML representation or trust the notebook. <br />On GitHub, the HTML representation is unable to render, please try loading this page with nbviewer.org.</b></div><div class=\"sk-container\" hidden><div class=\"sk-item\"><div class=\"sk-estimator sk-toggleable\"><input class=\"sk-toggleable__control sk-hidden--visually\" id=\"sk-estimator-id-5\" type=\"checkbox\" checked><label for=\"sk-estimator-id-5\" class=\"sk-toggleable__label sk-toggleable__label-arrow\">LinearRegression</label><div class=\"sk-toggleable__content\"><pre>LinearRegression()</pre></div></div></div></div></div>"
            ]
          },
          "metadata": {},
          "execution_count": 125
        }
      ]
    },
    {
      "cell_type": "code",
      "source": [
        "y_pred = lm.predict(X_train)"
      ],
      "metadata": {
        "id": "MHCKR7nLMnCd"
      },
      "execution_count": null,
      "outputs": []
    },
    {
      "cell_type": "code",
      "source": [
        "from sklearn.metrics import mean_squared_error, mean_absolute_error, r2_score\n",
        "\n",
        "# Assuming y_true represents the actual target values\n",
        "y_true = y_train\n",
        "\n",
        "# Calculate evaluation metrics\n",
        "mse = mean_squared_error(y_true, y_pred)\n",
        "rmse = mean_squared_error(y_true, y_pred, squared=False)\n",
        "mae = mean_absolute_error(y_true, y_pred)\n",
        "r2 = r2_score(y_true, y_pred)\n",
        "\n",
        "# Print the evaluation metrics\n",
        "print(\"Mean Squared Error (MSE):\", mse)\n",
        "print(\"Root Mean Squared Error (RMSE):\", rmse)\n",
        "print(\"Mean Absolute Error (MAE):\", mae)\n",
        "print(\"R-squared (R2) Score:\", r2)\n"
      ],
      "metadata": {
        "colab": {
          "base_uri": "https://localhost:8080/"
        },
        "id": "Iz4UOECFQkZR",
        "outputId": "837e6bc1-6a77-431f-dd20-3bf9d446bac5"
      },
      "execution_count": null,
      "outputs": [
        {
          "output_type": "stream",
          "name": "stdout",
          "text": [
            "Mean Squared Error (MSE): 0.00034365174019703896\n",
            "Root Mean Squared Error (RMSE): 0.018537846158522272\n",
            "Mean Absolute Error (MAE): 0.010607827954019362\n",
            "R-squared (R2) Score: 0.9881585383753545\n"
          ]
        }
      ]
    },
    {
      "cell_type": "code",
      "source": [
        "# Assuming X_test represents the feature matrix of the test set\n",
        "# Assuming y_test represents the actual target values of the test set\n",
        "\n",
        "# Calculate predictions on the test set\n",
        "y_pred_test = lm.predict(X_test)\n",
        "\n",
        "# Calculate evaluation metrics on the test set\n",
        "mse_test = mean_squared_error(y_test, y_pred_test)\n",
        "rmse_test = mean_squared_error(y_test, y_pred_test, squared=False)\n",
        "mae_test = mean_absolute_error(y_test, y_pred_test)\n",
        "r2_test = r2_score(y_test, y_pred_test)\n",
        "\n",
        "# Print the evaluation metrics for the test set\n",
        "print(\"Test Set Evaluation:\")\n",
        "print(\"Mean Squared Error (MSE):\", mse_test)\n",
        "print(\"Root Mean Squared Error (RMSE):\", rmse_test)\n",
        "print(\"Mean Absolute Error (MAE):\", mae_test)\n",
        "print(\"R-squared (R2) Score:\", r2_test)\n"
      ],
      "metadata": {
        "colab": {
          "base_uri": "https://localhost:8080/"
        },
        "id": "El1m66WnNbH4",
        "outputId": "0e875c1a-5d3b-456f-92aa-45d8363bd251"
      },
      "execution_count": null,
      "outputs": [
        {
          "output_type": "stream",
          "name": "stdout",
          "text": [
            "Test Set Evaluation:\n",
            "Mean Squared Error (MSE): 0.011075865223133263\n",
            "Root Mean Squared Error (RMSE): 0.10524193661812416\n",
            "Mean Absolute Error (MAE): 0.09757314219948314\n",
            "R-squared (R2) Score: 0.7488706228513711\n"
          ]
        }
      ]
    },
    {
      "cell_type": "code",
      "source": [
        "import matplotlib.pyplot as plt\n",
        "\n",
        "# Assuming y_test represents the actual target values of the test set\n",
        "# Assuming y_pred_test represents the predicted values on the test set\n",
        "\n",
        "# Create a scatter plot of actual vs predicted values\n",
        "plt.scatter(y_test, y_pred_test, alpha=0.5)\n",
        "\n",
        "# Add labels and title to the plot\n",
        "plt.xlabel('Actual Values')\n",
        "plt.ylabel('Predicted Values')\n",
        "plt.title('Actual vs Predicted Values')\n",
        "\n",
        "# Add a diagonal line for reference (perfect predictions)\n",
        "plt.plot([min(y_test), max(y_test)], [min(y_test), max(y_test)], color='red')\n",
        "\n",
        "# Display the plot\n",
        "plt.show()\n"
      ],
      "metadata": {
        "colab": {
          "base_uri": "https://localhost:8080/",
          "height": 472
        },
        "id": "Ziul3fdfNbM8",
        "outputId": "3222916b-fc1e-4ada-9341-73c9a6525405"
      },
      "execution_count": null,
      "outputs": [
        {
          "output_type": "display_data",
          "data": {
            "text/plain": [
              "<Figure size 640x480 with 1 Axes>"
            ],
            "image/png": "[encoded data removed]"
          },
          "metadata": {}
        }
      ]
    },
    {
      "cell_type": "code",
      "source": [],
      "metadata": {
        "id": "fdsR1lWqRVIi"
      },
      "execution_count": null,
      "outputs": []
    },
    {
      "cell_type": "code",
      "source": [],
      "metadata": {
        "id": "P5YBMqfARVQI"
      },
      "execution_count": null,
      "outputs": []
    },
    {
      "cell_type": "code",
      "source": [],
      "metadata": {
        "id": "gki_iK2DMnHe"
      },
      "execution_count": null,
      "outputs": []
    },
    {
      "cell_type": "code",
      "source": [],
      "metadata": {
        "id": "T-jSGIsNMnMI"
      },
      "execution_count": null,
      "outputs": []
    },
    {
      "cell_type": "code",
      "source": [
        "# One hot encode day of week and normalize daily aqi value and daily mean pm2.5 concentration\n",
        "\n",
        "# Encode the day of the week using one-hot encoding\n",
        "day_of_week = pd.get_dummies(df['Day of Week'])\n",
        "\n",
        "# Extract the features (inputs) and targets (outputs) from the DataFrame\n",
        "normalize_features = df[[\"DAILY_AQI_VALUE\", \"Daily Mean PM2.5 Concentration\"]]\n",
        "targets = df[\"DAILY_AQI_VALUE\"]\n",
        "\n",
        "from sklearn.model_selection import train_test_split\n",
        "from sklearn.preprocessing import StandardScaler\n",
        "from sklearn.linear_model import LinearRegression\n",
        "from sklearn.metrics import mean_squared_error\n",
        "\n",
        "# Normalize the data\n",
        "scaler = StandardScaler()\n",
        "normalize_features = scaler.fit_transform(normalize_features)\n",
        "\n",
        "# put day of week in a new df features \n",
        "# concatenate the normalized features and day of the week along the columns axis\n",
        "features = np.concatenate((normalize_features, day_of_week), axis=1)"
      ],
      "metadata": {
        "id": "NoUbd6tmltIu"
      },
      "execution_count": null,
      "outputs": []
    },
    {
      "cell_type": "code",
      "source": [
        "from sklearn.model_selection import train_test_split\n",
        "\n",
        "# X is your input feature matrix as a numpy array\n",
        "# y is your target variable as a numpy array\n",
        "# test_size is the proportion of the data to use for testing\n",
        "# random_state is a seed for the random number generator\n",
        "X_train, X_test, y_train, y_test = train_test_split(features, targets, test_size=0.2, random_state=42)"
      ],
      "metadata": {
        "id": "NQjR1iGk3J2B"
      },
      "execution_count": null,
      "outputs": []
    },
    {
      "cell_type": "code",
      "source": [
        "from sklearn.linear_model import LinearRegression\n",
        "\n",
        "# X is your input feature matrix as a numpy array\n",
        "# y is your target variable as a numpy array\n",
        "model = LinearRegression()\n",
        "model.fit(X_train, y_train)"
      ],
      "metadata": {
        "id": "mDa6qmPE3TMW",
        "outputId": "3efc8d4b-ce38-4ec4-d1f5-93e33f992c11",
        "colab": {
          "base_uri": "https://localhost:8080/",
          "height": 75
        }
      },
      "execution_count": null,
      "outputs": [
        {
          "output_type": "execute_result",
          "data": {
            "text/plain": [
              "LinearRegression()"
            ],
            "text/html": [
              "<style>#sk-container-id-1 {color: black;background-color: white;}#sk-container-id-1 pre{padding: 0;}#sk-container-id-1 div.sk-toggleable {background-color: white;}#sk-container-id-1 label.sk-toggleable__label {cursor: pointer;display: block;width: 100%;margin-bottom: 0;padding: 0.3em;box-sizing: border-box;text-align: center;}#sk-container-id-1 label.sk-toggleable__label-arrow:before {content: \"▸\";float: left;margin-right: 0.25em;color: #696969;}#sk-container-id-1 label.sk-toggleable__label-arrow:hover:before {color: black;}#sk-container-id-1 div.sk-estimator:hover label.sk-toggleable__label-arrow:before {color: black;}#sk-container-id-1 div.sk-toggleable__content {max-height: 0;max-width: 0;overflow: hidden;text-align: left;background-color: #f0f8ff;}#sk-container-id-1 div.sk-toggleable__content pre {margin: 0.2em;color: black;border-radius: 0.25em;background-color: #f0f8ff;}#sk-container-id-1 input.sk-toggleable__control:checked~div.sk-toggleable__content {max-height: 200px;max-width: 100%;overflow: auto;}#sk-container-id-1 input.sk-toggleable__control:checked~label.sk-toggleable__label-arrow:before {content: \"▾\";}#sk-container-id-1 div.sk-estimator input.sk-toggleable__control:checked~label.sk-toggleable__label {background-color: #d4ebff;}#sk-container-id-1 div.sk-label input.sk-toggleable__control:checked~label.sk-toggleable__label {background-color: #d4ebff;}#sk-container-id-1 input.sk-hidden--visually {border: 0;clip: rect(1px 1px 1px 1px);clip: rect(1px, 1px, 1px, 1px);height: 1px;margin: -1px;overflow: hidden;padding: 0;position: absolute;width: 1px;}#sk-container-id-1 div.sk-estimator {font-family: monospace;background-color: #f0f8ff;border: 1px dotted black;border-radius: 0.25em;box-sizing: border-box;margin-bottom: 0.5em;}#sk-container-id-1 div.sk-estimator:hover {background-color: #d4ebff;}#sk-container-id-1 div.sk-parallel-item::after {content: \"\";width: 100%;border-bottom: 1px solid gray;flex-grow: 1;}#sk-container-id-1 div.sk-label:hover label.sk-toggleable__label {background-color: #d4ebff;}#sk-container-id-1 div.sk-serial::before {content: \"\";position: absolute;border-left: 1px solid gray;box-sizing: border-box;top: 0;bottom: 0;left: 50%;z-index: 0;}#sk-container-id-1 div.sk-serial {display: flex;flex-direction: column;align-items: center;background-color: white;padding-right: 0.2em;padding-left: 0.2em;position: relative;}#sk-container-id-1 div.sk-item {position: relative;z-index: 1;}#sk-container-id-1 div.sk-parallel {display: flex;align-items: stretch;justify-content: center;background-color: white;position: relative;}#sk-container-id-1 div.sk-item::before, #sk-container-id-1 div.sk-parallel-item::before {content: \"\";position: absolute;border-left: 1px solid gray;box-sizing: border-box;top: 0;bottom: 0;left: 50%;z-index: -1;}#sk-container-id-1 div.sk-parallel-item {display: flex;flex-direction: column;z-index: 1;position: relative;background-color: white;}#sk-container-id-1 div.sk-parallel-item:first-child::after {align-self: flex-end;width: 50%;}#sk-container-id-1 div.sk-parallel-item:last-child::after {align-self: flex-start;width: 50%;}#sk-container-id-1 div.sk-parallel-item:only-child::after {width: 0;}#sk-container-id-1 div.sk-dashed-wrapped {border: 1px dashed gray;margin: 0 0.4em 0.5em 0.4em;box-sizing: border-box;padding-bottom: 0.4em;background-color: white;}#sk-container-id-1 div.sk-label label {font-family: monospace;font-weight: bold;display: inline-block;line-height: 1.2em;}#sk-container-id-1 div.sk-label-container {text-align: center;}#sk-container-id-1 div.sk-container {/* jupyter's `normalize.less` sets `[hidden] { display: none; }` but bootstrap.min.css set `[hidden] { display: none !important; }` so we also need the `!important` here to be able to override the default hidden behavior on the sphinx rendered scikit-learn.org. See: https://github.com/scikit-learn/scikit-learn/issues/21755 */display: inline-block !important;position: relative;}#sk-container-id-1 div.sk-text-repr-fallback {display: none;}</style><div id=\"sk-container-id-1\" class=\"sk-top-container\"><div class=\"sk-text-repr-fallback\"><pre>LinearRegression()</pre><b>In a Jupyter environment, please rerun this cell to show the HTML representation or trust the notebook. <br />On GitHub, the HTML representation is unable to render, please try loading this page with nbviewer.org.</b></div><div class=\"sk-container\" hidden><div class=\"sk-item\"><div class=\"sk-estimator sk-toggleable\"><input class=\"sk-toggleable__control sk-hidden--visually\" id=\"sk-estimator-id-1\" type=\"checkbox\" checked><label for=\"sk-estimator-id-1\" class=\"sk-toggleable__label sk-toggleable__label-arrow\">LinearRegression</label><div class=\"sk-toggleable__content\"><pre>LinearRegression()</pre></div></div></div></div></div>"
            ]
          },
          "metadata": {},
          "execution_count": 154
        }
      ]
    },
    {
      "cell_type": "code",
      "source": [
        "import numpy as np\n",
        "\n",
        "# Assuming normalized feature matrix is called 'normalized_features'\n",
        "day_of_week_cols = normalized_features[:, :7] # Select the one-hot encoded day of week columns\n",
        "day_of_week_sample = day_of_week_cols[0].reshape(1, -1) # Reshape to have only one sample\n",
        "\n",
        "# Assuming your trained model is called 'model'\n",
        "predicted_aqi = model.predict(day_of_week_sample)\n",
        "\n",
        "# If you want to convert the predicted normalized AQI value back to its original scale\n",
        "predicted_aqi = (predicted_aqi + 1) / 2 * (max_aqi - min_aqi) + min_aqi\n",
        "\n"
      ],
      "metadata": {
        "id": "dIPkFTYKxZto",
        "outputId": "ea35b202-6cfe-4efc-f319-52a1f53db28a",
        "colab": {
          "base_uri": "https://localhost:8080/",
          "height": 240
        }
      },
      "execution_count": null,
      "outputs": [
        {
          "output_type": "error",
          "ename": "NameError",
          "evalue": "ignored",
          "traceback": [
            "\u001b[0;31m---------------------------------------------------------------------------\u001b[0m",
            "\u001b[0;31mNameError\u001b[0m                                 Traceback (most recent call last)",
            "\u001b[0;32m<ipython-input-167-c0e54d7002ab>\u001b[0m in \u001b[0;36m<cell line: 4>\u001b[0;34m()\u001b[0m\n\u001b[1;32m      2\u001b[0m \u001b[0;34m\u001b[0m\u001b[0m\n\u001b[1;32m      3\u001b[0m \u001b[0;31m# Assuming normalized feature matrix is called 'normalized_features'\u001b[0m\u001b[0;34m\u001b[0m\u001b[0;34m\u001b[0m\u001b[0m\n\u001b[0;32m----> 4\u001b[0;31m \u001b[0mday_of_week_cols\u001b[0m \u001b[0;34m=\u001b[0m \u001b[0mnormalized_features\u001b[0m\u001b[0;34m[\u001b[0m\u001b[0;34m:\u001b[0m\u001b[0;34m,\u001b[0m \u001b[0;34m:\u001b[0m\u001b[0;36m7\u001b[0m\u001b[0;34m]\u001b[0m \u001b[0;31m# Select the one-hot encoded day of week columns\u001b[0m\u001b[0;34m\u001b[0m\u001b[0;34m\u001b[0m\u001b[0m\n\u001b[0m\u001b[1;32m      5\u001b[0m \u001b[0mday_of_week_sample\u001b[0m \u001b[0;34m=\u001b[0m \u001b[0mday_of_week_cols\u001b[0m\u001b[0;34m[\u001b[0m\u001b[0;36m0\u001b[0m\u001b[0;34m]\u001b[0m\u001b[0;34m.\u001b[0m\u001b[0mreshape\u001b[0m\u001b[0;34m(\u001b[0m\u001b[0;36m1\u001b[0m\u001b[0;34m,\u001b[0m \u001b[0;34m-\u001b[0m\u001b[0;36m1\u001b[0m\u001b[0;34m)\u001b[0m \u001b[0;31m# Reshape to have only one sample\u001b[0m\u001b[0;34m\u001b[0m\u001b[0;34m\u001b[0m\u001b[0m\n\u001b[1;32m      6\u001b[0m \u001b[0;34m\u001b[0m\u001b[0m\n",
            "\u001b[0;31mNameError\u001b[0m: name 'normalized_features' is not defined"
          ]
        }
      ]
    },
    {
      "cell_type": "code",
      "source": [
        "# X_new is your new input feature matrix\n",
        "predictions = model.predict(sample)\n",
        "print(predictions)"
      ],
      "metadata": {
        "id": "xJJ9Q2U3woeD",
        "outputId": "8270dcd2-9c93-4b5f-9bc1-85d921829fae",
        "colab": {
          "base_uri": "https://localhost:8080/"
        }
      },
      "execution_count": null,
      "outputs": [
        {
          "output_type": "stream",
          "name": "stdout",
          "text": [
            "[1.37076298e-15]\n"
          ]
        }
      ]
    },
    {
      "cell_type": "code",
      "source": [],
      "metadata": {
        "id": "yYfrYdUWwov5"
      },
      "execution_count": null,
      "outputs": []
    },
    {
      "cell_type": "code",
      "source": [],
      "metadata": {
        "id": "DlZLfiubwpBE"
      },
      "execution_count": null,
      "outputs": []
    },
    {
      "cell_type": "code",
      "source": [
        "# Build the model\n",
        "model = tf.keras.Sequential([\n",
        "    tf.keras.layers.Dense(units=25, activation='relu', input_shape=[7]),\n",
        "    tf.keras.layers.Dense(units=15, activation='relu'),\n",
        "    tf.keras.layers.Dense(units=10, activation='relu'),\n",
        "    tf.keras.layers.Dense(units=1)\n",
        "])\n"
      ],
      "metadata": {
        "id": "ypsmvF-q3pRf"
      },
      "execution_count": null,
      "outputs": []
    },
    {
      "cell_type": "code",
      "source": [
        "# Compile the model\n",
        "model.compile(loss='mean_squared_error', optimizer=tf.keras.optimizers.Adam(0.1))"
      ],
      "metadata": {
        "id": "fv8V6fMy3pTu"
      },
      "execution_count": null,
      "outputs": []
    },
    {
      "cell_type": "code",
      "source": [
        "# Train the model\n",
        "history = model.fit(train_features, train_labels, epochs=150)"
      ],
      "metadata": {
        "colab": {
          "base_uri": "https://localhost:8080/"
        },
        "id": "31451Y8D31-5",
        "outputId": "4c352bd9-77ad-49ca-8502-3e99b654b889"
      },
      "execution_count": null,
      "outputs": [
        {
          "output_type": "stream",
          "name": "stdout",
          "text": [
            "Epoch 1/150\n",
            "16/16 [==============================] - 1s 2ms/step - loss: 1.0762\n",
            "Epoch 2/150\n",
            "16/16 [==============================] - 0s 2ms/step - loss: 1.0243\n",
            "Epoch 3/150\n",
            "16/16 [==============================] - 0s 3ms/step - loss: 1.0191\n",
            "Epoch 4/150\n",
            "16/16 [==============================] - 0s 3ms/step - loss: 1.0196\n",
            "Epoch 5/150\n",
            "16/16 [==============================] - 0s 3ms/step - loss: 1.0106\n",
            "Epoch 6/150\n",
            "16/16 [==============================] - 0s 3ms/step - loss: 1.0100\n",
            "Epoch 7/150\n",
            "16/16 [==============================] - 0s 3ms/step - loss: 1.0139\n",
            "Epoch 8/150\n",
            "16/16 [==============================] - 0s 3ms/step - loss: 1.0170\n",
            "Epoch 9/150\n",
            "16/16 [==============================] - 0s 3ms/step - loss: 1.0309\n",
            "Epoch 10/150\n",
            "16/16 [==============================] - 0s 3ms/step - loss: 1.0165\n",
            "Epoch 11/150\n",
            "16/16 [==============================] - 0s 2ms/step - loss: 1.0119\n",
            "Epoch 12/150\n",
            "16/16 [==============================] - 0s 3ms/step - loss: 1.0165\n",
            "Epoch 13/150\n",
            "16/16 [==============================] - 0s 3ms/step - loss: 1.0143\n",
            "Epoch 14/150\n",
            "16/16 [==============================] - 0s 2ms/step - loss: 1.0163\n",
            "Epoch 15/150\n",
            "16/16 [==============================] - 0s 3ms/step - loss: 1.0443\n",
            "Epoch 16/150\n",
            "16/16 [==============================] - 0s 2ms/step - loss: 1.0163\n",
            "Epoch 17/150\n",
            "16/16 [==============================] - 0s 3ms/step - loss: 1.0305\n",
            "Epoch 18/150\n",
            "16/16 [==============================] - 0s 3ms/step - loss: 1.0160\n",
            "Epoch 19/150\n",
            "16/16 [==============================] - 0s 3ms/step - loss: 1.0300\n",
            "Epoch 20/150\n",
            "16/16 [==============================] - 0s 3ms/step - loss: 1.0232\n",
            "Epoch 21/150\n",
            "16/16 [==============================] - 0s 3ms/step - loss: 1.0218\n",
            "Epoch 22/150\n",
            "16/16 [==============================] - 0s 4ms/step - loss: 1.0447\n",
            "Epoch 23/150\n",
            "16/16 [==============================] - 0s 3ms/step - loss: 1.0363\n",
            "Epoch 24/150\n",
            "16/16 [==============================] - 0s 2ms/step - loss: 1.0271\n",
            "Epoch 25/150\n",
            "16/16 [==============================] - 0s 3ms/step - loss: 1.0273\n",
            "Epoch 26/150\n",
            "16/16 [==============================] - 0s 2ms/step - loss: 1.0296\n",
            "Epoch 27/150\n",
            "16/16 [==============================] - 0s 2ms/step - loss: 1.0162\n",
            "Epoch 28/150\n",
            "16/16 [==============================] - 0s 2ms/step - loss: 1.0157\n",
            "Epoch 29/150\n",
            "16/16 [==============================] - 0s 3ms/step - loss: 1.0140\n",
            "Epoch 30/150\n",
            "16/16 [==============================] - 0s 3ms/step - loss: 1.0121\n",
            "Epoch 31/150\n",
            "16/16 [==============================] - 0s 3ms/step - loss: 1.0154\n",
            "Epoch 32/150\n",
            "16/16 [==============================] - 0s 3ms/step - loss: 1.0138\n",
            "Epoch 33/150\n",
            "16/16 [==============================] - 0s 3ms/step - loss: 1.0129\n",
            "Epoch 34/150\n",
            "16/16 [==============================] - 0s 3ms/step - loss: 1.0129\n",
            "Epoch 35/150\n",
            "16/16 [==============================] - 0s 2ms/step - loss: 1.0117\n",
            "Epoch 36/150\n",
            "16/16 [==============================] - 0s 3ms/step - loss: 1.0185\n",
            "Epoch 37/150\n",
            "16/16 [==============================] - 0s 2ms/step - loss: 1.0247\n",
            "Epoch 38/150\n",
            "16/16 [==============================] - 0s 3ms/step - loss: 1.0190\n",
            "Epoch 39/150\n",
            "16/16 [==============================] - 0s 2ms/step - loss: 1.0196\n",
            "Epoch 40/150\n",
            "16/16 [==============================] - 0s 3ms/step - loss: 1.0135\n",
            "Epoch 41/150\n",
            "16/16 [==============================] - 0s 3ms/step - loss: 1.0183\n",
            "Epoch 42/150\n",
            "16/16 [==============================] - 0s 3ms/step - loss: 1.0117\n",
            "Epoch 43/150\n",
            "16/16 [==============================] - 0s 3ms/step - loss: 1.0207\n",
            "Epoch 44/150\n",
            "16/16 [==============================] - 0s 3ms/step - loss: 1.0119\n",
            "Epoch 45/150\n",
            "16/16 [==============================] - 0s 3ms/step - loss: 1.0110\n",
            "Epoch 46/150\n",
            "16/16 [==============================] - 0s 3ms/step - loss: 1.0135\n",
            "Epoch 47/150\n",
            "16/16 [==============================] - 0s 2ms/step - loss: 1.0120\n",
            "Epoch 48/150\n",
            "16/16 [==============================] - 0s 2ms/step - loss: 1.0178\n",
            "Epoch 49/150\n",
            "16/16 [==============================] - 0s 2ms/step - loss: 1.0128\n",
            "Epoch 50/150\n",
            "16/16 [==============================] - 0s 3ms/step - loss: 1.0227\n",
            "Epoch 51/150\n",
            "16/16 [==============================] - 0s 3ms/step - loss: 1.0138\n",
            "Epoch 52/150\n",
            "16/16 [==============================] - 0s 3ms/step - loss: 1.0105\n",
            "Epoch 53/150\n",
            "16/16 [==============================] - 0s 3ms/step - loss: 1.0133\n",
            "Epoch 54/150\n",
            "16/16 [==============================] - 0s 3ms/step - loss: 1.0154\n",
            "Epoch 55/150\n",
            "16/16 [==============================] - 0s 3ms/step - loss: 1.0154\n",
            "Epoch 56/150\n",
            "16/16 [==============================] - 0s 2ms/step - loss: 1.0191\n",
            "Epoch 57/150\n",
            "16/16 [==============================] - 0s 2ms/step - loss: 1.0217\n",
            "Epoch 58/150\n",
            "16/16 [==============================] - 0s 2ms/step - loss: 1.0117\n",
            "Epoch 59/150\n",
            "16/16 [==============================] - 0s 3ms/step - loss: 1.0147\n",
            "Epoch 60/150\n",
            "16/16 [==============================] - 0s 3ms/step - loss: 1.0214\n",
            "Epoch 61/150\n",
            "16/16 [==============================] - 0s 3ms/step - loss: 1.0131\n",
            "Epoch 62/150\n",
            "16/16 [==============================] - 0s 2ms/step - loss: 1.0153\n",
            "Epoch 63/150\n",
            "16/16 [==============================] - 0s 3ms/step - loss: 1.0235\n",
            "Epoch 64/150\n",
            "16/16 [==============================] - 0s 3ms/step - loss: 1.0167\n",
            "Epoch 65/150\n",
            "16/16 [==============================] - 0s 3ms/step - loss: 1.0128\n",
            "Epoch 66/150\n",
            "16/16 [==============================] - 0s 4ms/step - loss: 1.0152\n",
            "Epoch 67/150\n",
            "16/16 [==============================] - 0s 3ms/step - loss: 1.0190\n",
            "Epoch 68/150\n",
            "16/16 [==============================] - 0s 3ms/step - loss: 1.0192\n",
            "Epoch 69/150\n",
            "16/16 [==============================] - 0s 3ms/step - loss: 1.0396\n",
            "Epoch 70/150\n",
            "16/16 [==============================] - 0s 3ms/step - loss: 1.0137\n",
            "Epoch 71/150\n",
            "16/16 [==============================] - 0s 3ms/step - loss: 1.0160\n",
            "Epoch 72/150\n",
            "16/16 [==============================] - 0s 3ms/step - loss: 1.0230\n",
            "Epoch 73/150\n",
            "16/16 [==============================] - 0s 3ms/step - loss: 1.0116\n",
            "Epoch 74/150\n",
            "16/16 [==============================] - 0s 3ms/step - loss: 1.0130\n",
            "Epoch 75/150\n",
            "16/16 [==============================] - 0s 4ms/step - loss: 1.0192\n",
            "Epoch 76/150\n",
            "16/16 [==============================] - 0s 5ms/step - loss: 1.0140\n",
            "Epoch 77/150\n",
            "16/16 [==============================] - 0s 5ms/step - loss: 1.0137\n",
            "Epoch 78/150\n",
            "16/16 [==============================] - 0s 5ms/step - loss: 1.0085\n",
            "Epoch 79/150\n",
            "16/16 [==============================] - 0s 4ms/step - loss: 1.0176\n",
            "Epoch 80/150\n",
            "16/16 [==============================] - 0s 4ms/step - loss: 1.0208\n",
            "Epoch 81/150\n",
            "16/16 [==============================] - 0s 5ms/step - loss: 1.0223\n",
            "Epoch 82/150\n",
            "16/16 [==============================] - 0s 4ms/step - loss: 1.0150\n",
            "Epoch 83/150\n",
            "16/16 [==============================] - 0s 4ms/step - loss: 1.0141\n",
            "Epoch 84/150\n",
            "16/16 [==============================] - 0s 4ms/step - loss: 1.0158\n",
            "Epoch 85/150\n",
            "16/16 [==============================] - 0s 4ms/step - loss: 1.0145\n",
            "Epoch 86/150\n",
            "16/16 [==============================] - 0s 4ms/step - loss: 1.0102\n",
            "Epoch 87/150\n",
            "16/16 [==============================] - 0s 4ms/step - loss: 1.0199\n",
            "Epoch 88/150\n",
            "16/16 [==============================] - 0s 4ms/step - loss: 1.0236\n",
            "Epoch 89/150\n",
            "16/16 [==============================] - 0s 5ms/step - loss: 1.0342\n",
            "Epoch 90/150\n",
            "16/16 [==============================] - 0s 5ms/step - loss: 1.0243\n",
            "Epoch 91/150\n",
            "16/16 [==============================] - 0s 5ms/step - loss: 1.0236\n",
            "Epoch 92/150\n",
            "16/16 [==============================] - 0s 5ms/step - loss: 1.0070\n",
            "Epoch 93/150\n",
            "16/16 [==============================] - 0s 4ms/step - loss: 1.0288\n",
            "Epoch 94/150\n",
            "16/16 [==============================] - 0s 5ms/step - loss: 1.0191\n",
            "Epoch 95/150\n",
            "16/16 [==============================] - 0s 4ms/step - loss: 1.0081\n",
            "Epoch 96/150\n",
            "16/16 [==============================] - 0s 4ms/step - loss: 1.0161\n",
            "Epoch 97/150\n",
            "16/16 [==============================] - 0s 4ms/step - loss: 1.0258\n",
            "Epoch 98/150\n",
            "16/16 [==============================] - 0s 4ms/step - loss: 1.0223\n",
            "Epoch 99/150\n",
            "16/16 [==============================] - 0s 5ms/step - loss: 1.0219\n",
            "Epoch 100/150\n",
            "16/16 [==============================] - 0s 5ms/step - loss: 1.0158\n",
            "Epoch 101/150\n",
            "16/16 [==============================] - 0s 5ms/step - loss: 1.0176\n",
            "Epoch 102/150\n",
            "16/16 [==============================] - 0s 5ms/step - loss: 1.0213\n",
            "Epoch 103/150\n",
            "16/16 [==============================] - 0s 5ms/step - loss: 1.0190\n",
            "Epoch 104/150\n",
            "16/16 [==============================] - 0s 3ms/step - loss: 1.0183\n",
            "Epoch 105/150\n",
            "16/16 [==============================] - 0s 6ms/step - loss: 1.0115\n",
            "Epoch 106/150\n",
            "16/16 [==============================] - 0s 4ms/step - loss: 1.0156\n",
            "Epoch 107/150\n",
            "16/16 [==============================] - 0s 3ms/step - loss: 1.0137\n",
            "Epoch 108/150\n",
            "16/16 [==============================] - 0s 4ms/step - loss: 1.0155\n",
            "Epoch 109/150\n",
            "16/16 [==============================] - 0s 5ms/step - loss: 1.0179\n",
            "Epoch 110/150\n",
            "16/16 [==============================] - 0s 5ms/step - loss: 1.0111\n",
            "Epoch 111/150\n",
            "16/16 [==============================] - 0s 4ms/step - loss: 1.0138\n",
            "Epoch 112/150\n",
            "16/16 [==============================] - 0s 4ms/step - loss: 1.0248\n",
            "Epoch 113/150\n",
            "16/16 [==============================] - 0s 4ms/step - loss: 1.0110\n",
            "Epoch 114/150\n",
            "16/16 [==============================] - 0s 4ms/step - loss: 1.0158\n",
            "Epoch 115/150\n",
            "16/16 [==============================] - 0s 4ms/step - loss: 1.0128\n",
            "Epoch 116/150\n",
            "16/16 [==============================] - 0s 4ms/step - loss: 1.0131\n",
            "Epoch 117/150\n",
            "16/16 [==============================] - 0s 4ms/step - loss: 1.0132\n",
            "Epoch 118/150\n",
            "16/16 [==============================] - 0s 3ms/step - loss: 1.0303\n",
            "Epoch 119/150\n",
            "16/16 [==============================] - 0s 4ms/step - loss: 1.0237\n",
            "Epoch 120/150\n",
            "16/16 [==============================] - 0s 4ms/step - loss: 1.0205\n",
            "Epoch 121/150\n",
            "16/16 [==============================] - 0s 3ms/step - loss: 1.0148\n",
            "Epoch 122/150\n",
            "16/16 [==============================] - 0s 3ms/step - loss: 1.0158\n",
            "Epoch 123/150\n",
            "16/16 [==============================] - 0s 4ms/step - loss: 1.0087\n",
            "Epoch 124/150\n",
            "16/16 [==============================] - 0s 4ms/step - loss: 1.0197\n",
            "Epoch 125/150\n",
            "16/16 [==============================] - 0s 3ms/step - loss: 1.0117\n",
            "Epoch 126/150\n",
            "16/16 [==============================] - 0s 3ms/step - loss: 1.0197\n",
            "Epoch 127/150\n",
            "16/16 [==============================] - 0s 2ms/step - loss: 1.0275\n",
            "Epoch 128/150\n",
            "16/16 [==============================] - 0s 3ms/step - loss: 1.0178\n",
            "Epoch 129/150\n",
            "16/16 [==============================] - 0s 2ms/step - loss: 1.0150\n",
            "Epoch 130/150\n",
            "16/16 [==============================] - 0s 3ms/step - loss: 1.0207\n",
            "Epoch 131/150\n",
            "16/16 [==============================] - 0s 2ms/step - loss: 1.0246\n",
            "Epoch 132/150\n",
            "16/16 [==============================] - 0s 3ms/step - loss: 1.0258\n",
            "Epoch 133/150\n",
            "16/16 [==============================] - 0s 3ms/step - loss: 1.0161\n",
            "Epoch 134/150\n",
            "16/16 [==============================] - 0s 2ms/step - loss: 1.0129\n",
            "Epoch 135/150\n",
            "16/16 [==============================] - 0s 2ms/step - loss: 1.0212\n",
            "Epoch 136/150\n",
            "16/16 [==============================] - 0s 2ms/step - loss: 1.0109\n",
            "Epoch 137/150\n",
            "16/16 [==============================] - 0s 2ms/step - loss: 1.0137\n",
            "Epoch 138/150\n",
            "16/16 [==============================] - 0s 2ms/step - loss: 1.0099\n",
            "Epoch 139/150\n",
            "16/16 [==============================] - 0s 3ms/step - loss: 1.0122\n",
            "Epoch 140/150\n",
            "16/16 [==============================] - 0s 2ms/step - loss: 1.0232\n",
            "Epoch 141/150\n",
            "16/16 [==============================] - 0s 2ms/step - loss: 1.0138\n",
            "Epoch 142/150\n",
            "16/16 [==============================] - 0s 2ms/step - loss: 1.0236\n",
            "Epoch 143/150\n",
            "16/16 [==============================] - 0s 2ms/step - loss: 1.0175\n",
            "Epoch 144/150\n",
            "16/16 [==============================] - 0s 2ms/step - loss: 1.0223\n",
            "Epoch 145/150\n",
            "16/16 [==============================] - 0s 2ms/step - loss: 1.0177\n",
            "Epoch 146/150\n",
            "16/16 [==============================] - 0s 3ms/step - loss: 1.0188\n",
            "Epoch 147/150\n",
            "16/16 [==============================] - 0s 3ms/step - loss: 1.0225\n",
            "Epoch 148/150\n",
            "16/16 [==============================] - 0s 3ms/step - loss: 1.0244\n",
            "Epoch 149/150\n",
            "16/16 [==============================] - 0s 3ms/step - loss: 1.0166\n",
            "Epoch 150/150\n",
            "16/16 [==============================] - 0s 3ms/step - loss: 1.0133\n"
          ]
        }
      ]
    },
    {
      "cell_type": "code",
      "source": [
        "# Evaluate the model on the testing set\n",
        "mse = model.evaluate(test_features, test_labels)\n",
        "print('Mean Squared Error:', mse)"
      ],
      "metadata": {
        "colab": {
          "base_uri": "https://localhost:8080/"
        },
        "id": "BzEStUVl32BV",
        "outputId": "bb35cfb9-c0ab-4000-ac0f-6cace30d1867"
      },
      "execution_count": null,
      "outputs": [
        {
          "output_type": "stream",
          "name": "stdout",
          "text": [
            "4/4 [==============================] - 0s 6ms/step - loss: 0.9529\n",
            "Mean Squared Error: 0.9529088139533997\n"
          ]
        }
      ]
    },
    {
      "cell_type": "code",
      "source": [
        "# normalize the inputs\n",
        "normalize_features = scaler.transform(X)\n",
        "\n",
        "# make predictions\n",
        "y_pred = model.predict(normalize_features)\n",
        "\n",
        "# convert predictions back to original scale\n",
        "y_pred_unscaled = scaler.inverse_transform(y_pred)\n"
      ],
      "metadata": {
        "id": "ryMRor2nsgte",
        "outputId": "ef7a7ec8-cfc4-45d1-d478-a72b6fa42846",
        "colab": {
          "base_uri": "https://localhost:8080/",
          "height": 550
        }
      },
      "execution_count": null,
      "outputs": [
        {
          "output_type": "error",
          "ename": "ValueError",
          "evalue": "ignored",
          "traceback": [
            "\u001b[0;31m---------------------------------------------------------------------------\u001b[0m",
            "\u001b[0;31mValueError\u001b[0m                                Traceback (most recent call last)",
            "\u001b[0;32m<ipython-input-129-3a4c8223c6a0>\u001b[0m in \u001b[0;36m<cell line: 2>\u001b[0;34m()\u001b[0m\n\u001b[1;32m      1\u001b[0m \u001b[0;31m# normalize the inputs\u001b[0m\u001b[0;34m\u001b[0m\u001b[0;34m\u001b[0m\u001b[0m\n\u001b[0;32m----> 2\u001b[0;31m \u001b[0mnormalize_features\u001b[0m \u001b[0;34m=\u001b[0m \u001b[0mscaler\u001b[0m\u001b[0;34m.\u001b[0m\u001b[0mtransform\u001b[0m\u001b[0;34m(\u001b[0m\u001b[0mX\u001b[0m\u001b[0;34m)\u001b[0m\u001b[0;34m\u001b[0m\u001b[0;34m\u001b[0m\u001b[0m\n\u001b[0m\u001b[1;32m      3\u001b[0m \u001b[0;34m\u001b[0m\u001b[0m\n\u001b[1;32m      4\u001b[0m \u001b[0;31m# make predictions\u001b[0m\u001b[0;34m\u001b[0m\u001b[0;34m\u001b[0m\u001b[0m\n\u001b[1;32m      5\u001b[0m \u001b[0my_pred\u001b[0m \u001b[0;34m=\u001b[0m \u001b[0mmodel\u001b[0m\u001b[0;34m.\u001b[0m\u001b[0mpredict\u001b[0m\u001b[0;34m(\u001b[0m\u001b[0mnormalize_features\u001b[0m\u001b[0;34m)\u001b[0m\u001b[0;34m\u001b[0m\u001b[0;34m\u001b[0m\u001b[0m\n",
            "\u001b[0;32m/usr/local/lib/python3.10/dist-packages/sklearn/utils/_set_output.py\u001b[0m in \u001b[0;36mwrapped\u001b[0;34m(self, X, *args, **kwargs)\u001b[0m\n\u001b[1;32m    138\u001b[0m     \u001b[0;34m@\u001b[0m\u001b[0mwraps\u001b[0m\u001b[0;34m(\u001b[0m\u001b[0mf\u001b[0m\u001b[0;34m)\u001b[0m\u001b[0;34m\u001b[0m\u001b[0;34m\u001b[0m\u001b[0m\n\u001b[1;32m    139\u001b[0m     \u001b[0;32mdef\u001b[0m \u001b[0mwrapped\u001b[0m\u001b[0;34m(\u001b[0m\u001b[0mself\u001b[0m\u001b[0;34m,\u001b[0m \u001b[0mX\u001b[0m\u001b[0;34m,\u001b[0m \u001b[0;34m*\u001b[0m\u001b[0margs\u001b[0m\u001b[0;34m,\u001b[0m \u001b[0;34m**\u001b[0m\u001b[0mkwargs\u001b[0m\u001b[0;34m)\u001b[0m\u001b[0;34m:\u001b[0m\u001b[0;34m\u001b[0m\u001b[0;34m\u001b[0m\u001b[0m\n\u001b[0;32m--> 140\u001b[0;31m         \u001b[0mdata_to_wrap\u001b[0m \u001b[0;34m=\u001b[0m \u001b[0mf\u001b[0m\u001b[0;34m(\u001b[0m\u001b[0mself\u001b[0m\u001b[0;34m,\u001b[0m \u001b[0mX\u001b[0m\u001b[0;34m,\u001b[0m \u001b[0;34m*\u001b[0m\u001b[0margs\u001b[0m\u001b[0;34m,\u001b[0m \u001b[0;34m**\u001b[0m\u001b[0mkwargs\u001b[0m\u001b[0;34m)\u001b[0m\u001b[0;34m\u001b[0m\u001b[0;34m\u001b[0m\u001b[0m\n\u001b[0m\u001b[1;32m    141\u001b[0m         \u001b[0;32mif\u001b[0m \u001b[0misinstance\u001b[0m\u001b[0;34m(\u001b[0m\u001b[0mdata_to_wrap\u001b[0m\u001b[0;34m,\u001b[0m \u001b[0mtuple\u001b[0m\u001b[0;34m)\u001b[0m\u001b[0;34m:\u001b[0m\u001b[0;34m\u001b[0m\u001b[0;34m\u001b[0m\u001b[0m\n\u001b[1;32m    142\u001b[0m             \u001b[0;31m# only wrap the first output for cross decomposition\u001b[0m\u001b[0;34m\u001b[0m\u001b[0;34m\u001b[0m\u001b[0m\n",
            "\u001b[0;32m/usr/local/lib/python3.10/dist-packages/sklearn/preprocessing/_data.py\u001b[0m in \u001b[0;36mtransform\u001b[0;34m(self, X, copy)\u001b[0m\n\u001b[1;32m    990\u001b[0m \u001b[0;34m\u001b[0m\u001b[0m\n\u001b[1;32m    991\u001b[0m         \u001b[0mcopy\u001b[0m \u001b[0;34m=\u001b[0m \u001b[0mcopy\u001b[0m \u001b[0;32mif\u001b[0m \u001b[0mcopy\u001b[0m \u001b[0;32mis\u001b[0m \u001b[0;32mnot\u001b[0m \u001b[0;32mNone\u001b[0m \u001b[0;32melse\u001b[0m \u001b[0mself\u001b[0m\u001b[0;34m.\u001b[0m\u001b[0mcopy\u001b[0m\u001b[0;34m\u001b[0m\u001b[0;34m\u001b[0m\u001b[0m\n\u001b[0;32m--> 992\u001b[0;31m         X = self._validate_data(\n\u001b[0m\u001b[1;32m    993\u001b[0m             \u001b[0mX\u001b[0m\u001b[0;34m,\u001b[0m\u001b[0;34m\u001b[0m\u001b[0;34m\u001b[0m\u001b[0m\n\u001b[1;32m    994\u001b[0m             \u001b[0mreset\u001b[0m\u001b[0;34m=\u001b[0m\u001b[0;32mFalse\u001b[0m\u001b[0;34m,\u001b[0m\u001b[0;34m\u001b[0m\u001b[0;34m\u001b[0m\u001b[0m\n",
            "\u001b[0;32m/usr/local/lib/python3.10/dist-packages/sklearn/base.py\u001b[0m in \u001b[0;36m_validate_data\u001b[0;34m(self, X, y, reset, validate_separately, **check_params)\u001b[0m\n\u001b[1;32m    546\u001b[0m             \u001b[0mvalidated\u001b[0m\u001b[0;34m.\u001b[0m\u001b[0;34m\u001b[0m\u001b[0;34m\u001b[0m\u001b[0m\n\u001b[1;32m    547\u001b[0m         \"\"\"\n\u001b[0;32m--> 548\u001b[0;31m         \u001b[0mself\u001b[0m\u001b[0;34m.\u001b[0m\u001b[0m_check_feature_names\u001b[0m\u001b[0;34m(\u001b[0m\u001b[0mX\u001b[0m\u001b[0;34m,\u001b[0m \u001b[0mreset\u001b[0m\u001b[0;34m=\u001b[0m\u001b[0mreset\u001b[0m\u001b[0;34m)\u001b[0m\u001b[0;34m\u001b[0m\u001b[0;34m\u001b[0m\u001b[0m\n\u001b[0m\u001b[1;32m    549\u001b[0m \u001b[0;34m\u001b[0m\u001b[0m\n\u001b[1;32m    550\u001b[0m         \u001b[0;32mif\u001b[0m \u001b[0my\u001b[0m \u001b[0;32mis\u001b[0m \u001b[0;32mNone\u001b[0m \u001b[0;32mand\u001b[0m \u001b[0mself\u001b[0m\u001b[0;34m.\u001b[0m\u001b[0m_get_tags\u001b[0m\u001b[0;34m(\u001b[0m\u001b[0;34m)\u001b[0m\u001b[0;34m[\u001b[0m\u001b[0;34m\"requires_y\"\u001b[0m\u001b[0;34m]\u001b[0m\u001b[0;34m:\u001b[0m\u001b[0;34m\u001b[0m\u001b[0;34m\u001b[0m\u001b[0m\n",
            "\u001b[0;32m/usr/local/lib/python3.10/dist-packages/sklearn/base.py\u001b[0m in \u001b[0;36m_check_feature_names\u001b[0;34m(self, X, reset)\u001b[0m\n\u001b[1;32m    479\u001b[0m                 )\n\u001b[1;32m    480\u001b[0m \u001b[0;34m\u001b[0m\u001b[0m\n\u001b[0;32m--> 481\u001b[0;31m             \u001b[0;32mraise\u001b[0m \u001b[0mValueError\u001b[0m\u001b[0;34m(\u001b[0m\u001b[0mmessage\u001b[0m\u001b[0;34m)\u001b[0m\u001b[0;34m\u001b[0m\u001b[0;34m\u001b[0m\u001b[0m\n\u001b[0m\u001b[1;32m    482\u001b[0m \u001b[0;34m\u001b[0m\u001b[0m\n\u001b[1;32m    483\u001b[0m     def _validate_data(\n",
            "\u001b[0;31mValueError\u001b[0m: The feature names should match those that were passed during fit.\nFeature names unseen at fit time:\n- Friday\n- Monday\n- Saturday\n- Sunday\n- Thursday\n- ...\nFeature names seen at fit time, yet now missing:\n- Daily Mean PM2.5 Concentration\n"
          ]
        }
      ]
    },
    {
      "cell_type": "code",
      "source": [
        "# Use the model to make predictions on new data\n",
        "new_data = pd.DataFrame({\n",
        "    'Monday': [0],\n",
        "    'Tuesday': [0],\n",
        "    'Wednesday': [0],\n",
        "    'Thursday': [0],\n",
        "    'Friday': [0],\n",
        "    'Saturday': [0],\n",
        "    'Sunday': [0]\n",
        "})"
      ],
      "metadata": {
        "id": "7-WYaFL232D9"
      },
      "execution_count": null,
      "outputs": []
    },
    {
      "cell_type": "code",
      "source": [
        "new_data1 = new_data.copy()\n",
        "new_data1['Monday'] = [1]\n",
        "\n",
        "new_data2 = new_data.copy()\n",
        "new_data2['Tuesday'] = [1]\n",
        "\n",
        "new_data3 = new_data.copy()\n",
        "new_data3['Wednesday'] = [1]\n",
        "\n",
        "new_data4 = new_data.copy()\n",
        "new_data4['Thursday'] = [1]\n",
        "\n",
        "new_data5 = new_data.copy()\n",
        "new_data5['Friday'] = [1]\n",
        "\n",
        "new_data6 = new_data.copy()\n",
        "new_data6['Saturday'] = [1]\n",
        "\n",
        "new_data7 = new_data.copy()\n",
        "new_data7['Sunday'] = [1]"
      ],
      "metadata": {
        "id": "0mMEy5OH6ZOC"
      },
      "execution_count": null,
      "outputs": []
    },
    {
      "cell_type": "code",
      "source": [
        "prediction1 = model.predict(new_data1)\n",
        "\n",
        "prediction2 = model.predict(new_data2)\n",
        "\n",
        "prediction3 = model.predict(new_data3)\n",
        "\n",
        "prediction4 = model.predict(new_data4)\n",
        "\n",
        "prediction5 = model.predict(new_data5)\n",
        "\n",
        "prediction6 = model.predict(new_data6)\n",
        "\n",
        "prediction7 = model.predict(new_data7)\n",
        "\n",
        "\n",
        "print('AQI Prediction Monday:', prediction1)\n",
        "\n",
        "print('AQI Prediction Tuesday:', prediction2[0][0])\n",
        "\n",
        "print('AQI Prediction Wednesday:', prediction3[0][0])\n",
        "\n",
        "print('AQI Prediction Thursday:', prediction4)\n",
        "\n",
        "print('AQI Prediction Friday:', prediction5)\n",
        "\n",
        "print('AQI Prediction Saturday:', prediction6)\n",
        "\n",
        "print('AQI Prediction Sunday:', prediction7)"
      ],
      "metadata": {
        "colab": {
          "base_uri": "https://localhost:8080/"
        },
        "id": "vlbXIzLG7NOX",
        "outputId": "e3a933e1-296a-4002-f06d-1011bbaae1b5"
      },
      "execution_count": null,
      "outputs": [
        {
          "output_type": "stream",
          "name": "stdout",
          "text": [
            "1/1 [==============================] - 0s 91ms/step\n",
            "1/1 [==============================] - 0s 31ms/step\n",
            "1/1 [==============================] - 0s 35ms/step\n",
            "1/1 [==============================] - 0s 30ms/step\n",
            "1/1 [==============================] - 0s 29ms/step\n",
            "1/1 [==============================] - 0s 26ms/step\n",
            "1/1 [==============================] - 0s 28ms/step\n",
            "AQI Prediction Monday: [[0.03011695]]\n",
            "AQI Prediction Tuesday: 0.03011695\n",
            "AQI Prediction Wednesday: 0.03011695\n",
            "AQI Prediction Thursday: [[0.03011695]]\n",
            "AQI Prediction Friday: [[0.03011695]]\n",
            "AQI Prediction Saturday: [[0.03011695]]\n",
            "AQI Prediction Sunday: [[0.03011695]]\n"
          ]
        }
      ]
    }
  ]
}